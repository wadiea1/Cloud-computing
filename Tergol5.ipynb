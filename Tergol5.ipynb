{
  "nbformat": 4,
  "nbformat_minor": 0,
  "metadata": {
    "colab": {
      "provenance": [],
      "authorship_tag": "ABX9TyPt7QwSY6dZ/A4UGWJ94SLX",
      "include_colab_link": true
    },
    "kernelspec": {
      "name": "python3",
      "display_name": "Python 3"
    },
    "language_info": {
      "name": "python"
    }
  },
  "cells": [
    {
      "cell_type": "markdown",
      "metadata": {
        "id": "view-in-github",
        "colab_type": "text"
      },
      "source": [
        "<a href=\"https://colab.research.google.com/github/wadiea1/Cloud-computing/blob/main/Tergol5.ipynb\" target=\"_parent\"><img src=\"https://colab.research.google.com/assets/colab-badge.svg\" alt=\"Open In Colab\"/></a>"
      ]
    },
    {
      "cell_type": "code",
      "source": [
        "!pip install firebase\n"
      ],
      "metadata": {
        "colab": {
          "base_uri": "https://localhost:8080/"
        },
        "id": "y458NEtrc_yX",
        "outputId": "f9095e9e-dd31-43b7-e875-d69bfddf1c0b"
      },
      "execution_count": null,
      "outputs": [
        {
          "output_type": "stream",
          "name": "stdout",
          "text": [
            "Collecting firebase\n",
            "  Downloading firebase-4.0.1-py3-none-any.whl.metadata (6.5 kB)\n",
            "Requirement already satisfied: requests in /usr/local/lib/python3.11/dist-packages (from firebase) (2.32.3)\n",
            "Requirement already satisfied: charset-normalizer<4,>=2 in /usr/local/lib/python3.11/dist-packages (from requests->firebase) (3.4.1)\n",
            "Requirement already satisfied: idna<4,>=2.5 in /usr/local/lib/python3.11/dist-packages (from requests->firebase) (3.10)\n",
            "Requirement already satisfied: urllib3<3,>=1.21.1 in /usr/local/lib/python3.11/dist-packages (from requests->firebase) (2.3.0)\n",
            "Requirement already satisfied: certifi>=2017.4.17 in /usr/local/lib/python3.11/dist-packages (from requests->firebase) (2025.1.31)\n",
            "Downloading firebase-4.0.1-py3-none-any.whl (12 kB)\n",
            "Installing collected packages: firebase\n",
            "Successfully installed firebase-4.0.1\n"
          ]
        }
      ]
    },
    {
      "cell_type": "code",
      "execution_count": null,
      "metadata": {
        "colab": {
          "base_uri": "https://localhost:8080/"
        },
        "id": "y22FUJ-nb90b",
        "outputId": "0727b92d-d1db-4ef0-f649-8c1eccf9ec4f"
      },
      "outputs": [
        {
          "metadata": {
            "tags": null
          },
          "name": "stdout",
          "output_type": "stream",
          "text": [
            "\n",
            "Common Words Tracker Menu:\n",
            "1. Add new word\n",
            "2. Update existing word's count\n",
            "3. Delete word record\n",
            "4. View all words\n",
            "5. Add full text for analysis\n",
            "6. Exit\n",
            "Word 'dfok' already exists. Count updated to 2.\n",
            "\n",
            "Common Words Tracker Menu:\n",
            "1. Add new word\n",
            "2. Update existing word's count\n",
            "3. Delete word record\n",
            "4. View all words\n",
            "5. Add full text for analysis\n",
            "6. Exit\n",
            "Word 'dfoooo' added successfully! Record ID: -OOrS7jw0fl-w-7pcCoH\n",
            "\n",
            "Common Words Tracker Menu:\n",
            "1. Add new word\n",
            "2. Update existing word's count\n",
            "3. Delete word record\n",
            "4. View all words\n",
            "5. Add full text for analysis\n",
            "6. Exit\n"
          ]
        }
      ],
      "source": [
        "from firebase import firebase\n",
        "import time\n",
        "\n",
        "# Initialize Firebase connection\n",
        "FBconn = firebase.FirebaseApplication('https://tergol5-63675-default-rtdb.firebaseio.com/', None)\n",
        "\n",
        "def get_all_words():\n",
        "    \"\"\"Retrieve all word records\"\"\"\n",
        "    return FBconn.get('/Words/', None)\n",
        "\n",
        "def update_word_count(record_id, new_count):\n",
        "    \"\"\"Update an existing word's count\"\"\"\n",
        "    return FBconn.put('/Words/' + record_id, 'count', new_count)\n",
        "\n",
        "def delete_word(record_id):\n",
        "    \"\"\"Delete a word record\"\"\"\n",
        "    return FBconn.delete('/Words/', record_id)\n",
        "\n",
        "def display_words():\n",
        "    \"\"\"Display all words and their counts\"\"\"\n",
        "    records = get_all_words()\n",
        "    if records:\n",
        "        print(\"\\nCurrent Words in Database:\")\n",
        "        for record_id, data in records.items():\n",
        "            print(f\"ID: {record_id} - Word: {data['word']} - Count: {data['count']}\")\n",
        "    else:\n",
        "        print(\"\\nNo words found.\")\n",
        "\n",
        "def add_full_text():\n",
        "    \"\"\"Add full text and update words\"\"\"\n",
        "    text = input(\"Enter your full text: \").strip()\n",
        "    words = text.split()\n",
        "\n",
        "    existing = get_all_words() or {}\n",
        "    word_to_id = {}\n",
        "    for record_id, data in existing.items():\n",
        "        word_to_id[data['word']] = record_id\n",
        "\n",
        "    for word in words:\n",
        "        if word in word_to_id:\n",
        "            record_id = word_to_id[word]\n",
        "            old_count = existing[record_id]['count']\n",
        "            update_word_count(record_id, old_count + 1)\n",
        "        else:\n",
        "            data_to_upload = {\n",
        "                'word': word,\n",
        "                'count': 1,\n",
        "                'timestamp': time.time()\n",
        "            }\n",
        "            FBconn.post('/Words/', data_to_upload)\n",
        "    print(\"Text analyzed and words updated successfully!\")\n",
        "\n",
        "# --- Main Program Loop ---\n",
        "\n",
        "while True:\n",
        "    print(\"\\nCommon Words Tracker Menu:\")\n",
        "    print(\"1. Add new word\")\n",
        "    print(\"2. Update existing word's count\")\n",
        "    print(\"3. Delete word record\")\n",
        "    print(\"4. View all words\")\n",
        "    print(\"5. Add full text for analysis\")\n",
        "    print(\"6. Exit\")\n",
        "\n",
        "    choice = input(\"\\nEnter your choice (1-6): \").strip()\n",
        "\n",
        "    if choice == '1':\n",
        "        # Add new word\n",
        "        try:\n",
        "            word = input(\"Enter the word to add: \").strip()\n",
        "\n",
        "            existing = get_all_words() or {}\n",
        "            word_found = False\n",
        "\n",
        "            for record_id, data in existing.items():\n",
        "                if data['word'] == word:\n",
        "                    old_count = data['count']\n",
        "                    update_word_count(record_id, old_count + 1)\n",
        "                    print(f\"Word '{word}' already exists. Count updated to {old_count + 1}.\")\n",
        "                    word_found = True\n",
        "                    break\n",
        "\n",
        "            if not word_found:\n",
        "                data_to_upload = {\n",
        "                    'word': word,\n",
        "                    'count': 1,\n",
        "                    'timestamp': time.time()\n",
        "                }\n",
        "                result = FBconn.post('/Words/', data_to_upload)\n",
        "                print(f\"Word '{word}' added successfully! Record ID: {result['name']}\")\n",
        "\n",
        "        except Exception as e:\n",
        "            print(f\"Error: {str(e)}\")\n",
        "\n",
        "    elif choice == '2':\n",
        "        # Update existing word's count\n",
        "        display_words()\n",
        "        record_id = input(\"\\nEnter the record ID to update: \").strip()\n",
        "        try:\n",
        "            new_count = int(input(\"Enter the new count for the word: \"))\n",
        "            result = update_word_count(record_id, new_count)\n",
        "            if result:\n",
        "                print(\"Word count updated successfully!\")\n",
        "            else:\n",
        "                print(\"Failed to update word. Check if the ID exists.\")\n",
        "        except ValueError:\n",
        "            print(\"Please enter a valid number for count.\")\n",
        "\n",
        "    elif choice == '3':\n",
        "        # Delete word record\n",
        "        display_words()\n",
        "        record_id = input(\"\\nEnter the record ID to delete: \").strip()\n",
        "        result = delete_word(record_id)\n",
        "        if result is None:\n",
        "            print(\"Word record deleted successfully!\")\n",
        "        else:\n",
        "            print(\"Failed to delete word. Check if the ID exists.\")\n",
        "\n",
        "    elif choice == '4':\n",
        "        # View all words\n",
        "        display_words()\n",
        "\n",
        "\n",
        "    elif choice == '6':\n",
        "        print(\"Exiting program...\")\n",
        "        break\n",
        "\n",
        "    elif choice == '5':\n",
        "        # Add full text\n",
        "        add_full_text()\n",
        "\n",
        "    else:\n",
        "        print(\"Invalid choice. Please try again.\")"
      ]
    }
  ]
}