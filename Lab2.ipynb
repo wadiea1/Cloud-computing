{
  "nbformat": 4,
  "nbformat_minor": 0,
  "metadata": {
    "colab": {
      "provenance": [],
      "authorship_tag": "ABX9TyONr7Jv0+WLgjhEP0+1E4zC",
      "include_colab_link": true
    },
    "kernelspec": {
      "name": "python3",
      "display_name": "Python 3"
    },
    "language_info": {
      "name": "python"
    },
    "widgets": {
      "application/vnd.jupyter.widget-state+json": {
        "97bf1d1e99634bf8ace34bbaf68e011e": {
          "model_module": "@jupyter-widgets/controls",
          "model_name": "ButtonModel",
          "model_module_version": "1.5.0",
          "state": {
            "_dom_classes": [],
            "_model_module": "@jupyter-widgets/controls",
            "_model_module_version": "1.5.0",
            "_model_name": "ButtonModel",
            "_view_count": null,
            "_view_module": "@jupyter-widgets/controls",
            "_view_module_version": "1.5.0",
            "_view_name": "ButtonView",
            "button_style": "info",
            "description": "Update Fav topic",
            "disabled": false,
            "icon": "",
            "layout": "IPY_MODEL_e4805b30d90d4636ac9053d8a3d70e8f",
            "style": "IPY_MODEL_479cf4f415c0411a825d42d4d72fcc02",
            "tooltip": ""
          }
        },
        "e4805b30d90d4636ac9053d8a3d70e8f": {
          "model_module": "@jupyter-widgets/base",
          "model_name": "LayoutModel",
          "model_module_version": "1.2.0",
          "state": {
            "_model_module": "@jupyter-widgets/base",
            "_model_module_version": "1.2.0",
            "_model_name": "LayoutModel",
            "_view_count": null,
            "_view_module": "@jupyter-widgets/base",
            "_view_module_version": "1.2.0",
            "_view_name": "LayoutView",
            "align_content": null,
            "align_items": null,
            "align_self": null,
            "border": null,
            "bottom": null,
            "display": null,
            "flex": null,
            "flex_flow": null,
            "grid_area": null,
            "grid_auto_columns": null,
            "grid_auto_flow": null,
            "grid_auto_rows": null,
            "grid_column": null,
            "grid_gap": null,
            "grid_row": null,
            "grid_template_areas": null,
            "grid_template_columns": null,
            "grid_template_rows": null,
            "height": null,
            "justify_content": null,
            "justify_items": null,
            "left": null,
            "margin": null,
            "max_height": null,
            "max_width": null,
            "min_height": null,
            "min_width": null,
            "object_fit": null,
            "object_position": null,
            "order": null,
            "overflow": null,
            "overflow_x": null,
            "overflow_y": null,
            "padding": null,
            "right": null,
            "top": null,
            "visibility": null,
            "width": null
          }
        },
        "479cf4f415c0411a825d42d4d72fcc02": {
          "model_module": "@jupyter-widgets/controls",
          "model_name": "ButtonStyleModel",
          "model_module_version": "1.5.0",
          "state": {
            "_model_module": "@jupyter-widgets/controls",
            "_model_module_version": "1.5.0",
            "_model_name": "ButtonStyleModel",
            "_view_count": null,
            "_view_module": "@jupyter-widgets/base",
            "_view_module_version": "1.2.0",
            "_view_name": "StyleView",
            "button_color": null,
            "font_weight": ""
          }
        }
      }
    }
  },
  "cells": [
    {
      "cell_type": "markdown",
      "metadata": {
        "id": "view-in-github",
        "colab_type": "text"
      },
      "source": [
        "<a href=\"https://colab.research.google.com/github/wadiea1/Cloud-computing/blob/main/Lab2.ipynb\" target=\"_parent\"><img src=\"https://colab.research.google.com/assets/colab-badge.svg\" alt=\"Open In Colab\"/></a>"
      ]
    },
    {
      "cell_type": "code",
      "execution_count": 85,
      "metadata": {
        "colab": {
          "base_uri": "https://localhost:8080/",
          "height": 240,
          "referenced_widgets": [
            "97bf1d1e99634bf8ace34bbaf68e011e",
            "e4805b30d90d4636ac9053d8a3d70e8f",
            "479cf4f415c0411a825d42d4d72fcc02"
          ]
        },
        "id": "u0kcpDcx59he",
        "outputId": "cb5139c9-e924-4273-b0f2-38f9e2af02c6"
      },
      "outputs": [
        {
          "output_type": "stream",
          "name": "stdout",
          "text": [
            "========================================\n",
            "🧑‍🎓 Student Information: Helal Ali\n",
            "========================================\n",
            "🔖 ID: 212131353\n",
            "📧 Email: Helal.Ali@braude.ac.il\n",
            "📚 Courses:\n",
            "    • Java\n",
            "    • Cloud Computing\n",
            "🔗 Interesting Link: https://cloud.google.com/training\n",
            "⭐ Favorite Program: Melo\n",
            "========================================\n"
          ]
        }
      ],
      "source": [
        "# @title Select Student\n",
        "student_name = \"Helal\" # @param [\"Osama\",\"Nuwar\",\"Bader\",\"Wadeia\",\"Helal\",\"Owise\"]\n",
        "favorite_program = \"Melo\" # @param {\"type\":\"string\"}\n",
        "\n",
        "import json\n",
        "import ipywidgets as widgets\n",
        "from IPython.display import display, clear_output\n",
        "\n",
        "# Load the JSON data from students.json\n",
        "with open('students.json', encoding='utf-8') as f:\n",
        "    students_data = json.load(f)\n",
        "\n",
        "# Find and print only the selected student's data\n",
        "selected_student = next((student for student in students_data if student[\"first_name\"] == student_name), None)\n",
        "\n",
        "def print_student_info(student):\n",
        "    clear_output()\n",
        "    print(f\"{'='*40}\")\n",
        "    print(f\"🧑‍🎓 Student Information: {student['first_name']} {student['last_name']}\")\n",
        "    print(f\"{'='*40}\")\n",
        "    print(f\"🔖 ID: {student['id']}\")\n",
        "    print(f\"📧 Email: {student['email']}\")\n",
        "    print(\"📚 Courses:\")\n",
        "    for course in student['courses']:\n",
        "        print(f\"    • {course}\")\n",
        "    print(f\"🔗 Interesting Link: {student['link']}\")\n",
        "    if \"favorite_program\" in student:\n",
        "        print(f\"⭐ Favorite Program: {student['favorite_program']}\")\n",
        "    else:\n",
        "        print(f\"⭐ Favorite Program: Not Set\")\n",
        "    print(f\"{'='*40}\")\n",
        "\n",
        "# Initially print student info\n",
        "print_student_info(selected_student)\n",
        "\n",
        "# Create button\n",
        "button = widgets.Button(description='Update Fav topic', button_style='info')\n",
        "\n",
        "# Define the button click handler correctly\n",
        "def update_favorite_program(b):\n",
        "    selected_student['favorite_program'] = favorite_program\n",
        "    # Save updated data back to JSON file\n",
        "    with open('students.json', 'w', encoding='utf-8') as f:\n",
        "        json.dump(students_data, f, indent=4, ensure_ascii=False)\n",
        "    print(f\"✅ Updated '{student_name}' with favorite program '{favorite_program}'.\")\n",
        "    # Refresh the student info after update\n",
        "    print_student_info(selected_student)\n",
        "\n",
        "# Link the button click to the function without parentheses\n",
        "button.on_click(update_favorite_program)\n",
        "\n",
        "# Display button\n",
        "display(button)\n"
      ]
    }
  ]
}