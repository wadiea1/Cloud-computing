{
  "nbformat": 4,
  "nbformat_minor": 0,
  "metadata": {
    "colab": {
      "provenance": [],
      "authorship_tag": "ABX9TyOTgHfCPse0XIckeaGlUM7p",
      "include_colab_link": true
    },
    "kernelspec": {
      "name": "python3",
      "display_name": "Python 3"
    },
    "language_info": {
      "name": "python"
    },
    "widgets": {
      "application/vnd.jupyter.widget-state+json": {
        "719e8efd20124efabdb5a48efe64cad2": {
          "model_module": "@jupyter-widgets/controls",
          "model_name": "TabModel",
          "model_module_version": "1.5.0",
          "state": {
            "_dom_classes": [],
            "_model_module": "@jupyter-widgets/controls",
            "_model_module_version": "1.5.0",
            "_model_name": "TabModel",
            "_titles": {
              "0": "Tab 1: Data Overview",
              "1": "Tab 2: Raw Data",
              "2": "Tab 3: Year Count"
            },
            "_view_count": null,
            "_view_module": "@jupyter-widgets/controls",
            "_view_module_version": "1.5.0",
            "_view_name": "TabView",
            "box_style": "",
            "children": [
              "IPY_MODEL_eb9452eb883f4883ad30ba6ae8ca71e9",
              "IPY_MODEL_e297dc407c3d414ba096ddbdfc635ff6",
              "IPY_MODEL_05584c3e10bb45eaae478f61c8fb08a9"
            ],
            "layout": "IPY_MODEL_358cabe6f5e1490aba3de95b44b19ee9",
            "selected_index": 1
          }
        },
        "eb9452eb883f4883ad30ba6ae8ca71e9": {
          "model_module": "@jupyter-widgets/output",
          "model_name": "OutputModel",
          "model_module_version": "1.0.0",
          "state": {
            "_dom_classes": [],
            "_model_module": "@jupyter-widgets/output",
            "_model_module_version": "1.0.0",
            "_model_name": "OutputModel",
            "_view_count": null,
            "_view_module": "@jupyter-widgets/output",
            "_view_module_version": "1.0.0",
            "_view_name": "OutputView",
            "layout": "IPY_MODEL_7a4ef955e38946c88372d656122da6c0",
            "msg_id": "",
            "outputs": [
              {
                "output_type": "stream",
                "name": "stdout",
                "text": [
                  "Data Overview:\n"
                ]
              },
              {
                "output_type": "display_data",
                "data": {
                  "text/plain": "                _id  mispar_rechev    tozeret_cd      degem_cd  \\\ncount  32000.000000   3.200000e+04  32000.000000  32000.000000   \nmean   16000.500000   1.357894e+07    597.857719    452.691438   \nstd     9237.748643   1.903818e+07    257.378938    577.537182   \nmin        1.000000   1.000263e+06     19.000000      1.000000   \n25%     8000.750000   4.056863e+06    413.000000     71.000000   \n50%    16000.500000   6.691122e+06    588.000000    292.000000   \n75%    24000.250000   9.416848e+06    734.000000    641.000000   \nmax    32000.000000   9.255030e+07   1634.000000   8710.000000   \n\n       ramat_eivzur_betihuty  kvutzat_zihum  shnat_yitzur      tzeva_cd  \\\ncount            6717.000000   23066.000000  32000.000000  32000.000000   \nmean                3.745571      13.277378   2011.917062     44.117625   \nstd                 2.214058       3.744862      6.834948     27.831036   \nmin                 1.000000       1.000000   1996.000000      0.000000   \n25%                 2.000000      14.000000   2008.000000     25.000000   \n50%                 3.000000      15.000000   2010.000000     29.000000   \n75%                 6.000000      15.000000   2016.000000     80.000000   \nmax                 8.000000      15.000000   2025.000000     99.000000   \n\n       horaat_rishum  \ncount    9645.000000  \nmean   201986.875791  \nstd     49124.942725  \nmin     11095.000000  \n25%    160600.000000  \n50%    210391.000000  \n75%    240023.000000  \nmax    999998.000000  ",
                  "text/html": "\n  <div id=\"df-ff7b368a-5ef4-4b5d-8591-e57cf936f6b1\" class=\"colab-df-container\">\n    <div>\n<style scoped>\n    .dataframe tbody tr th:only-of-type {\n        vertical-align: middle;\n    }\n\n    .dataframe tbody tr th {\n        vertical-align: top;\n    }\n\n    .dataframe thead th {\n        text-align: right;\n    }\n</style>\n<table border=\"1\" class=\"dataframe\">\n  <thead>\n    <tr style=\"text-align: right;\">\n      <th></th>\n      <th>_id</th>\n      <th>mispar_rechev</th>\n      <th>tozeret_cd</th>\n      <th>degem_cd</th>\n      <th>ramat_eivzur_betihuty</th>\n      <th>kvutzat_zihum</th>\n      <th>shnat_yitzur</th>\n      <th>tzeva_cd</th>\n      <th>horaat_rishum</th>\n    </tr>\n  </thead>\n  <tbody>\n    <tr>\n      <th>count</th>\n      <td>32000.000000</td>\n      <td>3.200000e+04</td>\n      <td>32000.000000</td>\n      <td>32000.000000</td>\n      <td>6717.000000</td>\n      <td>23066.000000</td>\n      <td>32000.000000</td>\n      <td>32000.000000</td>\n      <td>9645.000000</td>\n    </tr>\n    <tr>\n      <th>mean</th>\n      <td>16000.500000</td>\n      <td>1.357894e+07</td>\n      <td>597.857719</td>\n      <td>452.691438</td>\n      <td>3.745571</td>\n      <td>13.277378</td>\n      <td>2011.917062</td>\n      <td>44.117625</td>\n      <td>201986.875791</td>\n    </tr>\n    <tr>\n      <th>std</th>\n      <td>9237.748643</td>\n      <td>1.903818e+07</td>\n      <td>257.378938</td>\n      <td>577.537182</td>\n      <td>2.214058</td>\n      <td>3.744862</td>\n      <td>6.834948</td>\n      <td>27.831036</td>\n      <td>49124.942725</td>\n    </tr>\n    <tr>\n      <th>min</th>\n      <td>1.000000</td>\n      <td>1.000263e+06</td>\n      <td>19.000000</td>\n      <td>1.000000</td>\n      <td>1.000000</td>\n      <td>1.000000</td>\n      <td>1996.000000</td>\n      <td>0.000000</td>\n      <td>11095.000000</td>\n    </tr>\n    <tr>\n      <th>25%</th>\n      <td>8000.750000</td>\n      <td>4.056863e+06</td>\n      <td>413.000000</td>\n      <td>71.000000</td>\n      <td>2.000000</td>\n      <td>14.000000</td>\n      <td>2008.000000</td>\n      <td>25.000000</td>\n      <td>160600.000000</td>\n    </tr>\n    <tr>\n      <th>50%</th>\n      <td>16000.500000</td>\n      <td>6.691122e+06</td>\n      <td>588.000000</td>\n      <td>292.000000</td>\n      <td>3.000000</td>\n      <td>15.000000</td>\n      <td>2010.000000</td>\n      <td>29.000000</td>\n      <td>210391.000000</td>\n    </tr>\n    <tr>\n      <th>75%</th>\n      <td>24000.250000</td>\n      <td>9.416848e+06</td>\n      <td>734.000000</td>\n      <td>641.000000</td>\n      <td>6.000000</td>\n      <td>15.000000</td>\n      <td>2016.000000</td>\n      <td>80.000000</td>\n      <td>240023.000000</td>\n    </tr>\n    <tr>\n      <th>max</th>\n      <td>32000.000000</td>\n      <td>9.255030e+07</td>\n      <td>1634.000000</td>\n      <td>8710.000000</td>\n      <td>8.000000</td>\n      <td>15.000000</td>\n      <td>2025.000000</td>\n      <td>99.000000</td>\n      <td>999998.000000</td>\n    </tr>\n  </tbody>\n</table>\n</div>\n    <div class=\"colab-df-buttons\">\n\n  <div class=\"colab-df-container\">\n    <button class=\"colab-df-convert\" onclick=\"convertToInteractive('df-ff7b368a-5ef4-4b5d-8591-e57cf936f6b1')\"\n            title=\"Convert this dataframe to an interactive table.\"\n            style=\"display:none;\">\n\n  <svg xmlns=\"http://www.w3.org/2000/svg\" height=\"24px\" viewBox=\"0 -960 960 960\">\n    <path d=\"M120-120v-720h720v720H120Zm60-500h600v-160H180v160Zm220 220h160v-160H400v160Zm0 220h160v-160H400v160ZM180-400h160v-160H180v160Zm440 0h160v-160H620v160ZM180-180h160v-160H180v160Zm440 0h160v-160H620v160Z\"/>\n  </svg>\n    </button>\n\n  <style>\n    .colab-df-container {\n      display:flex;\n      gap: 12px;\n    }\n\n    .colab-df-convert {\n      background-color: #E8F0FE;\n      border: none;\n      border-radius: 50%;\n      cursor: pointer;\n      display: none;\n      fill: #1967D2;\n      height: 32px;\n      padding: 0 0 0 0;\n      width: 32px;\n    }\n\n    .colab-df-convert:hover {\n      background-color: #E2EBFA;\n      box-shadow: 0px 1px 2px rgba(60, 64, 67, 0.3), 0px 1px 3px 1px rgba(60, 64, 67, 0.15);\n      fill: #174EA6;\n    }\n\n    .colab-df-buttons div {\n      margin-bottom: 4px;\n    }\n\n    [theme=dark] .colab-df-convert {\n      background-color: #3B4455;\n      fill: #D2E3FC;\n    }\n\n    [theme=dark] .colab-df-convert:hover {\n      background-color: #434B5C;\n      box-shadow: 0px 1px 3px 1px rgba(0, 0, 0, 0.15);\n      filter: drop-shadow(0px 1px 2px rgba(0, 0, 0, 0.3));\n      fill: #FFFFFF;\n    }\n  </style>\n\n    <script>\n      const buttonEl =\n        document.querySelector('#df-ff7b368a-5ef4-4b5d-8591-e57cf936f6b1 button.colab-df-convert');\n      buttonEl.style.display =\n        google.colab.kernel.accessAllowed ? 'block' : 'none';\n\n      async function convertToInteractive(key) {\n        const element = document.querySelector('#df-ff7b368a-5ef4-4b5d-8591-e57cf936f6b1');\n        const dataTable =\n          await google.colab.kernel.invokeFunction('convertToInteractive',\n                                                    [key], {});\n        if (!dataTable) return;\n\n        const docLinkHtml = 'Like what you see? Visit the ' +\n          '<a target=\"_blank\" href=https://colab.research.google.com/notebooks/data_table.ipynb>data table notebook</a>'\n          + ' to learn more about interactive tables.';\n        element.innerHTML = '';\n        dataTable['output_type'] = 'display_data';\n        await google.colab.output.renderOutput(dataTable, element);\n        const docLink = document.createElement('div');\n        docLink.innerHTML = docLinkHtml;\n        element.appendChild(docLink);\n      }\n    </script>\n  </div>\n\n\n    <div id=\"df-a0bbb9a0-9ee3-4b7e-8513-0cedddf0c8e0\">\n      <button class=\"colab-df-quickchart\" onclick=\"quickchart('df-a0bbb9a0-9ee3-4b7e-8513-0cedddf0c8e0')\"\n                title=\"Suggest charts\"\n                style=\"display:none;\">\n\n<svg xmlns=\"http://www.w3.org/2000/svg\" height=\"24px\"viewBox=\"0 0 24 24\"\n     width=\"24px\">\n    <g>\n        <path d=\"M19 3H5c-1.1 0-2 .9-2 2v14c0 1.1.9 2 2 2h14c1.1 0 2-.9 2-2V5c0-1.1-.9-2-2-2zM9 17H7v-7h2v7zm4 0h-2V7h2v10zm4 0h-2v-4h2v4z\"/>\n    </g>\n</svg>\n      </button>\n\n<style>\n  .colab-df-quickchart {\n      --bg-color: #E8F0FE;\n      --fill-color: #1967D2;\n      --hover-bg-color: #E2EBFA;\n      --hover-fill-color: #174EA6;\n      --disabled-fill-color: #AAA;\n      --disabled-bg-color: #DDD;\n  }\n\n  [theme=dark] .colab-df-quickchart {\n      --bg-color: #3B4455;\n      --fill-color: #D2E3FC;\n      --hover-bg-color: #434B5C;\n      --hover-fill-color: #FFFFFF;\n      --disabled-bg-color: #3B4455;\n      --disabled-fill-color: #666;\n  }\n\n  .colab-df-quickchart {\n    background-color: var(--bg-color);\n    border: none;\n    border-radius: 50%;\n    cursor: pointer;\n    display: none;\n    fill: var(--fill-color);\n    height: 32px;\n    padding: 0;\n    width: 32px;\n  }\n\n  .colab-df-quickchart:hover {\n    background-color: var(--hover-bg-color);\n    box-shadow: 0 1px 2px rgba(60, 64, 67, 0.3), 0 1px 3px 1px rgba(60, 64, 67, 0.15);\n    fill: var(--button-hover-fill-color);\n  }\n\n  .colab-df-quickchart-complete:disabled,\n  .colab-df-quickchart-complete:disabled:hover {\n    background-color: var(--disabled-bg-color);\n    fill: var(--disabled-fill-color);\n    box-shadow: none;\n  }\n\n  .colab-df-spinner {\n    border: 2px solid var(--fill-color);\n    border-color: transparent;\n    border-bottom-color: var(--fill-color);\n    animation:\n      spin 1s steps(1) infinite;\n  }\n\n  @keyframes spin {\n    0% {\n      border-color: transparent;\n      border-bottom-color: var(--fill-color);\n      border-left-color: var(--fill-color);\n    }\n    20% {\n      border-color: transparent;\n      border-left-color: var(--fill-color);\n      border-top-color: var(--fill-color);\n    }\n    30% {\n      border-color: transparent;\n      border-left-color: var(--fill-color);\n      border-top-color: var(--fill-color);\n      border-right-color: var(--fill-color);\n    }\n    40% {\n      border-color: transparent;\n      border-right-color: var(--fill-color);\n      border-top-color: var(--fill-color);\n    }\n    60% {\n      border-color: transparent;\n      border-right-color: var(--fill-color);\n    }\n    80% {\n      border-color: transparent;\n      border-right-color: var(--fill-color);\n      border-bottom-color: var(--fill-color);\n    }\n    90% {\n      border-color: transparent;\n      border-bottom-color: var(--fill-color);\n    }\n  }\n</style>\n\n      <script>\n        async function quickchart(key) {\n          const quickchartButtonEl =\n            document.querySelector('#' + key + ' button');\n          quickchartButtonEl.disabled = true;  // To prevent multiple clicks.\n          quickchartButtonEl.classList.add('colab-df-spinner');\n          try {\n            const charts = await google.colab.kernel.invokeFunction(\n                'suggestCharts', [key], {});\n          } catch (error) {\n            console.error('Error during call to suggestCharts:', error);\n          }\n          quickchartButtonEl.classList.remove('colab-df-spinner');\n          quickchartButtonEl.classList.add('colab-df-quickchart-complete');\n        }\n        (() => {\n          let quickchartButtonEl =\n            document.querySelector('#df-a0bbb9a0-9ee3-4b7e-8513-0cedddf0c8e0 button');\n          quickchartButtonEl.style.display =\n            google.colab.kernel.accessAllowed ? 'block' : 'none';\n        })();\n      </script>\n    </div>\n\n    </div>\n  </div>\n",
                  "application/vnd.google.colaboratory.intrinsic+json": {
                    "type": "dataframe",
                    "summary": "{\n  \"name\": \"display(tabs)\",\n  \"rows\": 8,\n  \"fields\": [\n    {\n      \"column\": \"_id\",\n      \"properties\": {\n        \"dtype\": \"number\",\n        \"std\": 11532.650024401897,\n        \"min\": 1.0,\n        \"max\": 32000.0,\n        \"num_unique_values\": 6,\n        \"samples\": [\n          32000.0,\n          16000.5,\n          24000.25\n        ],\n        \"semantic_type\": \"\",\n        \"description\": \"\"\n      }\n    },\n    {\n      \"column\": \"mispar_rechev\",\n      \"properties\": {\n        \"dtype\": \"number\",\n        \"std\": 30672194.085141733,\n        \"min\": 32000.0,\n        \"max\": 92550301.0,\n        \"num_unique_values\": 8,\n        \"samples\": [\n          13578943.52965625,\n          6691122.5,\n          32000.0\n        ],\n        \"semantic_type\": \"\",\n        \"description\": \"\"\n      }\n    },\n    {\n      \"column\": \"tozeret_cd\",\n      \"properties\": {\n        \"dtype\": \"number\",\n        \"std\": 11109.53604759706,\n        \"min\": 19.0,\n        \"max\": 32000.0,\n        \"num_unique_values\": 8,\n        \"samples\": [\n          597.85771875,\n          588.0,\n          32000.0\n        ],\n        \"semantic_type\": \"\",\n        \"description\": \"\"\n      }\n    },\n    {\n      \"column\": \"degem_cd\",\n      \"properties\": {\n        \"dtype\": \"number\",\n        \"std\": 11164.416973593063,\n        \"min\": 1.0,\n        \"max\": 32000.0,\n        \"num_unique_values\": 8,\n        \"samples\": [\n          452.6914375,\n          292.0,\n          32000.0\n        ],\n        \"semantic_type\": \"\",\n        \"description\": \"\"\n      }\n    },\n    {\n      \"column\": \"ramat_eivzur_betihuty\",\n      \"properties\": {\n        \"dtype\": \"number\",\n        \"std\": 2373.5080686013016,\n        \"min\": 1.0,\n        \"max\": 6717.0,\n        \"num_unique_values\": 8,\n        \"samples\": [\n          3.7455709394074734,\n          3.0,\n          6717.0\n        ],\n        \"semantic_type\": \"\",\n        \"description\": \"\"\n      }\n    },\n    {\n      \"column\": \"kvutzat_zihum\",\n      \"properties\": {\n        \"dtype\": \"number\",\n        \"std\": 8151.174179341243,\n        \"min\": 1.0,\n        \"max\": 23066.0,\n        \"num_unique_values\": 6,\n        \"samples\": [\n          23066.0,\n          13.277377958900546,\n          15.0\n        ],\n        \"semantic_type\": \"\",\n        \"description\": \"\"\n      }\n    },\n    {\n      \"column\": \"shnat_yitzur\",\n      \"properties\": {\n        \"dtype\": \"number\",\n        \"std\": 10726.84859821912,\n        \"min\": 6.834948336476811,\n        \"max\": 32000.0,\n        \"num_unique_values\": 8,\n        \"samples\": [\n          2011.9170625,\n          2010.0,\n          32000.0\n        ],\n        \"semantic_type\": \"\",\n        \"description\": \"\"\n      }\n    },\n    {\n      \"column\": \"tzeva_cd\",\n      \"properties\": {\n        \"dtype\": \"number\",\n        \"std\": 11298.351171955448,\n        \"min\": 0.0,\n        \"max\": 32000.0,\n        \"num_unique_values\": 8,\n        \"samples\": [\n          44.117625,\n          29.0,\n          32000.0\n        ],\n        \"semantic_type\": \"\",\n        \"description\": \"\"\n      }\n    },\n    {\n      \"column\": \"horaat_rishum\",\n      \"properties\": {\n        \"dtype\": \"number\",\n        \"std\": 322478.091519166,\n        \"min\": 9645.0,\n        \"max\": 999998.0,\n        \"num_unique_values\": 8,\n        \"samples\": [\n          201986.87579056507,\n          210391.0,\n          9645.0\n        ],\n        \"semantic_type\": \"\",\n        \"description\": \"\"\n      }\n    }\n  ]\n}"
                  }
                },
                "metadata": {}
              }
            ]
          }
        },
        "e297dc407c3d414ba096ddbdfc635ff6": {
          "model_module": "@jupyter-widgets/output",
          "model_name": "OutputModel",
          "model_module_version": "1.0.0",
          "state": {
            "_dom_classes": [],
            "_model_module": "@jupyter-widgets/output",
            "_model_module_version": "1.0.0",
            "_model_name": "OutputModel",
            "_view_count": null,
            "_view_module": "@jupyter-widgets/output",
            "_view_module_version": "1.0.0",
            "_view_name": "OutputView",
            "layout": "IPY_MODEL_d809791761074d0fb6448e0705e01dd1",
            "msg_id": "",
            "outputs": [
              {
                "output_type": "stream",
                "name": "stdout",
                "text": [
                  "Raw Data:\n"
                ]
              },
              {
                "output_type": "display_data",
                "data": {
                  "text/plain": "         _id  mispar_rechev  tozeret_cd sug_degem     tozeret_nm  degem_cd  \\\n0          1        1368639         177         P    פיאט תורכיה        46   \n1          2        1751772         885         P     קיה קוריאה       821   \n2          3        1957563         845         P  יונדאי טורקיה        62   \n3          4        2176963         590         P   מיצובישי יפן       511   \n4          5        2389531         481         P  יונדאי קוריאה        99   \n...      ...            ...         ...       ...            ...       ...   \n31995  31996        2696085         416         P    קיה סלובקיה       154   \n31996  31997        8740156         588         P       מזדה יפן       781   \n31997  31998        7651558         624         M      ניסאן יפן       650   \n31998  31999        1053573         502         P    יונדאי הודו        41   \n31999  32000        8089065         588         P       מזדה יפן       292   \n\n         degem_nm ramat_gimur  ramat_eivzur_betihuty  kvutzat_zihum  \\\n0        356SXE11      LOUNGE                    NaN           15.0   \n1          DE2213          EX                    NaN           15.0   \n2           CM41A          GL                    NaN            NaN   \n3      CS3ASRJEL6   EXECUTIVE                    NaN           15.0   \n4           DH41C     INSPIRE                    NaN           15.0   \n...           ...         ...                    ...            ...   \n31995      PK816H  PREMIUM GT                    1.0           15.0   \n31996       BK12Z      ACTIVE                    NaN            NaN   \n31997      CPUD22     E GRADE                    NaN            NaN   \n31998       AM51C          GL                    NaN           15.0   \n31999       BK12Z      ACTIVE                    NaN           15.0   \n\n       shnat_yitzur degem_manoa mivchan_acharon_dt    tokef_dt baalut  \\\n0              2016    55268036         2024-04-03  2025-04-17   פרטי   \n1              2010        G4EE         2024-05-09  2025-05-08   פרטי   \n2              2008        G4EE         2024-04-07  2025-04-30   פרטי   \n3              2008        4G18         2024-05-31  2025-05-28   פרטי   \n4              2014        G4FG         2024-05-03  2025-05-06   פרטי   \n...             ...         ...                ...         ...    ...   \n31995          2017        G4FJ         2024-02-01  2025-01-15   פרטי   \n31996          2005          Z6         2024-07-17  2025-05-10   פרטי   \n31997          2005     YD25DDT         2023-05-15  2024-05-22   פרטי   \n31998          2010        G4LA         2025-04-06  2026-03-13   פרטי   \n31999          2008          Z6         2024-01-17  2024-12-03   פרטי   \n\n                   misgeret  tzeva_cd tzeva_rechev  zmig_kidmi  zmig_ahori  \\\n0         ZFA35600006C35239        80     שנהב לבן   225/45R17   225/45R17   \n1         KNADH411BA6683569        23    אפור בהיר   175/70R14   175/70R14   \n2         NLHCM41AP8Z054622        80     שנהב לבן   185/65R14   185/65R14   \n3         JMBSRCS3A8U000524        80     שנהב לבן   195/60R15   195/60R15   \n4         KMHDH41CBFU168547        93     כסוף כהה   195/65R15   195/65R15   \n...                     ...       ...          ...         ...         ...   \n31995     U5YPK816HHL205576        20         אפור   245/45R19   245/45R19   \n31996    JMZBK12Z5-51146091        20         אפור   195/65R15   195/65R15   \n31997  JN1*CPUD22*5A707158*        46     ירוק מטל  255/70R16C  255/70R16C   \n31998     MALAM51CBAM518673        20         אפור   175/60R14   175/60R14   \n31999    JMZBK12Z5-01787888        25          כסף   195/65R15               \n\n      sug_delek_nm  horaat_rishum moed_aliya_lakvish kinuy_mishari  \n0            בנזין       160378.0             2016-4     FIAT TIPO  \n1            בנזין            NaN             2010-5           RIO  \n2            בנזין            NaN               None        ACCENT  \n3            בנזין            NaN               None        LANCER  \n4            בנזין       140123.0             2014-5           I35  \n...            ...            ...                ...           ...  \n31995        בנזין       160215.0             2017-1      SPORTAGE  \n31996        בנזין            NaN               None        MAZDA3  \n31997         דיזל            NaN               None        PICKUP  \n31998        בנזין            NaN             2010-3           I10  \n31999        בנזין            NaN            2008-12       MAZDA 3  \n\n[32000 rows x 24 columns]",
                  "text/html": "\n  <div id=\"df-9bbf8f27-251e-40e9-8294-af64854a81a3\" class=\"colab-df-container\">\n    <div>\n<style scoped>\n    .dataframe tbody tr th:only-of-type {\n        vertical-align: middle;\n    }\n\n    .dataframe tbody tr th {\n        vertical-align: top;\n    }\n\n    .dataframe thead th {\n        text-align: right;\n    }\n</style>\n<table border=\"1\" class=\"dataframe\">\n  <thead>\n    <tr style=\"text-align: right;\">\n      <th></th>\n      <th>_id</th>\n      <th>mispar_rechev</th>\n      <th>tozeret_cd</th>\n      <th>sug_degem</th>\n      <th>tozeret_nm</th>\n      <th>degem_cd</th>\n      <th>degem_nm</th>\n      <th>ramat_gimur</th>\n      <th>ramat_eivzur_betihuty</th>\n      <th>kvutzat_zihum</th>\n      <th>shnat_yitzur</th>\n      <th>degem_manoa</th>\n      <th>mivchan_acharon_dt</th>\n      <th>tokef_dt</th>\n      <th>baalut</th>\n      <th>misgeret</th>\n      <th>tzeva_cd</th>\n      <th>tzeva_rechev</th>\n      <th>zmig_kidmi</th>\n      <th>zmig_ahori</th>\n      <th>sug_delek_nm</th>\n      <th>horaat_rishum</th>\n      <th>moed_aliya_lakvish</th>\n      <th>kinuy_mishari</th>\n    </tr>\n  </thead>\n  <tbody>\n    <tr>\n      <th>0</th>\n      <td>1</td>\n      <td>1368639</td>\n      <td>177</td>\n      <td>P</td>\n      <td>פיאט תורכיה</td>\n      <td>46</td>\n      <td>356SXE11</td>\n      <td>LOUNGE</td>\n      <td>NaN</td>\n      <td>15.0</td>\n      <td>2016</td>\n      <td>55268036</td>\n      <td>2024-04-03</td>\n      <td>2025-04-17</td>\n      <td>פרטי</td>\n      <td>ZFA35600006C35239</td>\n      <td>80</td>\n      <td>שנהב לבן</td>\n      <td>225/45R17</td>\n      <td>225/45R17</td>\n      <td>בנזין</td>\n      <td>160378.0</td>\n      <td>2016-4</td>\n      <td>FIAT TIPO</td>\n    </tr>\n    <tr>\n      <th>1</th>\n      <td>2</td>\n      <td>1751772</td>\n      <td>885</td>\n      <td>P</td>\n      <td>קיה קוריאה</td>\n      <td>821</td>\n      <td>DE2213</td>\n      <td>EX</td>\n      <td>NaN</td>\n      <td>15.0</td>\n      <td>2010</td>\n      <td>G4EE</td>\n      <td>2024-05-09</td>\n      <td>2025-05-08</td>\n      <td>פרטי</td>\n      <td>KNADH411BA6683569</td>\n      <td>23</td>\n      <td>אפור בהיר</td>\n      <td>175/70R14</td>\n      <td>175/70R14</td>\n      <td>בנזין</td>\n      <td>NaN</td>\n      <td>2010-5</td>\n      <td>RIO</td>\n    </tr>\n    <tr>\n      <th>2</th>\n      <td>3</td>\n      <td>1957563</td>\n      <td>845</td>\n      <td>P</td>\n      <td>יונדאי טורקיה</td>\n      <td>62</td>\n      <td>CM41A</td>\n      <td>GL</td>\n      <td>NaN</td>\n      <td>NaN</td>\n      <td>2008</td>\n      <td>G4EE</td>\n      <td>2024-04-07</td>\n      <td>2025-04-30</td>\n      <td>פרטי</td>\n      <td>NLHCM41AP8Z054622</td>\n      <td>80</td>\n      <td>שנהב לבן</td>\n      <td>185/65R14</td>\n      <td>185/65R14</td>\n      <td>בנזין</td>\n      <td>NaN</td>\n      <td>None</td>\n      <td>ACCENT</td>\n    </tr>\n    <tr>\n      <th>3</th>\n      <td>4</td>\n      <td>2176963</td>\n      <td>590</td>\n      <td>P</td>\n      <td>מיצובישי יפן</td>\n      <td>511</td>\n      <td>CS3ASRJEL6</td>\n      <td>EXECUTIVE</td>\n      <td>NaN</td>\n      <td>15.0</td>\n      <td>2008</td>\n      <td>4G18</td>\n      <td>2024-05-31</td>\n      <td>2025-05-28</td>\n      <td>פרטי</td>\n      <td>JMBSRCS3A8U000524</td>\n      <td>80</td>\n      <td>שנהב לבן</td>\n      <td>195/60R15</td>\n      <td>195/60R15</td>\n      <td>בנזין</td>\n      <td>NaN</td>\n      <td>None</td>\n      <td>LANCER</td>\n    </tr>\n    <tr>\n      <th>4</th>\n      <td>5</td>\n      <td>2389531</td>\n      <td>481</td>\n      <td>P</td>\n      <td>יונדאי קוריאה</td>\n      <td>99</td>\n      <td>DH41C</td>\n      <td>INSPIRE</td>\n      <td>NaN</td>\n      <td>15.0</td>\n      <td>2014</td>\n      <td>G4FG</td>\n      <td>2024-05-03</td>\n      <td>2025-05-06</td>\n      <td>פרטי</td>\n      <td>KMHDH41CBFU168547</td>\n      <td>93</td>\n      <td>כסוף כהה</td>\n      <td>195/65R15</td>\n      <td>195/65R15</td>\n      <td>בנזין</td>\n      <td>140123.0</td>\n      <td>2014-5</td>\n      <td>I35</td>\n    </tr>\n    <tr>\n      <th>...</th>\n      <td>...</td>\n      <td>...</td>\n      <td>...</td>\n      <td>...</td>\n      <td>...</td>\n      <td>...</td>\n      <td>...</td>\n      <td>...</td>\n      <td>...</td>\n      <td>...</td>\n      <td>...</td>\n      <td>...</td>\n      <td>...</td>\n      <td>...</td>\n      <td>...</td>\n      <td>...</td>\n      <td>...</td>\n      <td>...</td>\n      <td>...</td>\n      <td>...</td>\n      <td>...</td>\n      <td>...</td>\n      <td>...</td>\n      <td>...</td>\n    </tr>\n    <tr>\n      <th>31995</th>\n      <td>31996</td>\n      <td>2696085</td>\n      <td>416</td>\n      <td>P</td>\n      <td>קיה סלובקיה</td>\n      <td>154</td>\n      <td>PK816H</td>\n      <td>PREMIUM GT</td>\n      <td>1.0</td>\n      <td>15.0</td>\n      <td>2017</td>\n      <td>G4FJ</td>\n      <td>2024-02-01</td>\n      <td>2025-01-15</td>\n      <td>פרטי</td>\n      <td>U5YPK816HHL205576</td>\n      <td>20</td>\n      <td>אפור</td>\n      <td>245/45R19</td>\n      <td>245/45R19</td>\n      <td>בנזין</td>\n      <td>160215.0</td>\n      <td>2017-1</td>\n      <td>SPORTAGE</td>\n    </tr>\n    <tr>\n      <th>31996</th>\n      <td>31997</td>\n      <td>8740156</td>\n      <td>588</td>\n      <td>P</td>\n      <td>מזדה יפן</td>\n      <td>781</td>\n      <td>BK12Z</td>\n      <td>ACTIVE</td>\n      <td>NaN</td>\n      <td>NaN</td>\n      <td>2005</td>\n      <td>Z6</td>\n      <td>2024-07-17</td>\n      <td>2025-05-10</td>\n      <td>פרטי</td>\n      <td>JMZBK12Z5-51146091</td>\n      <td>20</td>\n      <td>אפור</td>\n      <td>195/65R15</td>\n      <td>195/65R15</td>\n      <td>בנזין</td>\n      <td>NaN</td>\n      <td>None</td>\n      <td>MAZDA3</td>\n    </tr>\n    <tr>\n      <th>31997</th>\n      <td>31998</td>\n      <td>7651558</td>\n      <td>624</td>\n      <td>M</td>\n      <td>ניסאן יפן</td>\n      <td>650</td>\n      <td>CPUD22</td>\n      <td>E GRADE</td>\n      <td>NaN</td>\n      <td>NaN</td>\n      <td>2005</td>\n      <td>YD25DDT</td>\n      <td>2023-05-15</td>\n      <td>2024-05-22</td>\n      <td>פרטי</td>\n      <td>JN1*CPUD22*5A707158*</td>\n      <td>46</td>\n      <td>ירוק מטל</td>\n      <td>255/70R16C</td>\n      <td>255/70R16C</td>\n      <td>דיזל</td>\n      <td>NaN</td>\n      <td>None</td>\n      <td>PICKUP</td>\n    </tr>\n    <tr>\n      <th>31998</th>\n      <td>31999</td>\n      <td>1053573</td>\n      <td>502</td>\n      <td>P</td>\n      <td>יונדאי הודו</td>\n      <td>41</td>\n      <td>AM51C</td>\n      <td>GL</td>\n      <td>NaN</td>\n      <td>15.0</td>\n      <td>2010</td>\n      <td>G4LA</td>\n      <td>2025-04-06</td>\n      <td>2026-03-13</td>\n      <td>פרטי</td>\n      <td>MALAM51CBAM518673</td>\n      <td>20</td>\n      <td>אפור</td>\n      <td>175/60R14</td>\n      <td>175/60R14</td>\n      <td>בנזין</td>\n      <td>NaN</td>\n      <td>2010-3</td>\n      <td>I10</td>\n    </tr>\n    <tr>\n      <th>31999</th>\n      <td>32000</td>\n      <td>8089065</td>\n      <td>588</td>\n      <td>P</td>\n      <td>מזדה יפן</td>\n      <td>292</td>\n      <td>BK12Z</td>\n      <td>ACTIVE</td>\n      <td>NaN</td>\n      <td>15.0</td>\n      <td>2008</td>\n      <td>Z6</td>\n      <td>2024-01-17</td>\n      <td>2024-12-03</td>\n      <td>פרטי</td>\n      <td>JMZBK12Z5-01787888</td>\n      <td>25</td>\n      <td>כסף</td>\n      <td>195/65R15</td>\n      <td></td>\n      <td>בנזין</td>\n      <td>NaN</td>\n      <td>2008-12</td>\n      <td>MAZDA 3</td>\n    </tr>\n  </tbody>\n</table>\n<p>32000 rows × 24 columns</p>\n</div>\n    <div class=\"colab-df-buttons\">\n\n  <div class=\"colab-df-container\">\n    <button class=\"colab-df-convert\" onclick=\"convertToInteractive('df-9bbf8f27-251e-40e9-8294-af64854a81a3')\"\n            title=\"Convert this dataframe to an interactive table.\"\n            style=\"display:none;\">\n\n  <svg xmlns=\"http://www.w3.org/2000/svg\" height=\"24px\" viewBox=\"0 -960 960 960\">\n    <path d=\"M120-120v-720h720v720H120Zm60-500h600v-160H180v160Zm220 220h160v-160H400v160Zm0 220h160v-160H400v160ZM180-400h160v-160H180v160Zm440 0h160v-160H620v160ZM180-180h160v-160H180v160Zm440 0h160v-160H620v160Z\"/>\n  </svg>\n    </button>\n\n  <style>\n    .colab-df-container {\n      display:flex;\n      gap: 12px;\n    }\n\n    .colab-df-convert {\n      background-color: #E8F0FE;\n      border: none;\n      border-radius: 50%;\n      cursor: pointer;\n      display: none;\n      fill: #1967D2;\n      height: 32px;\n      padding: 0 0 0 0;\n      width: 32px;\n    }\n\n    .colab-df-convert:hover {\n      background-color: #E2EBFA;\n      box-shadow: 0px 1px 2px rgba(60, 64, 67, 0.3), 0px 1px 3px 1px rgba(60, 64, 67, 0.15);\n      fill: #174EA6;\n    }\n\n    .colab-df-buttons div {\n      margin-bottom: 4px;\n    }\n\n    [theme=dark] .colab-df-convert {\n      background-color: #3B4455;\n      fill: #D2E3FC;\n    }\n\n    [theme=dark] .colab-df-convert:hover {\n      background-color: #434B5C;\n      box-shadow: 0px 1px 3px 1px rgba(0, 0, 0, 0.15);\n      filter: drop-shadow(0px 1px 2px rgba(0, 0, 0, 0.3));\n      fill: #FFFFFF;\n    }\n  </style>\n\n    <script>\n      const buttonEl =\n        document.querySelector('#df-9bbf8f27-251e-40e9-8294-af64854a81a3 button.colab-df-convert');\n      buttonEl.style.display =\n        google.colab.kernel.accessAllowed ? 'block' : 'none';\n\n      async function convertToInteractive(key) {\n        const element = document.querySelector('#df-9bbf8f27-251e-40e9-8294-af64854a81a3');\n        const dataTable =\n          await google.colab.kernel.invokeFunction('convertToInteractive',\n                                                    [key], {});\n        if (!dataTable) return;\n\n        const docLinkHtml = 'Like what you see? Visit the ' +\n          '<a target=\"_blank\" href=https://colab.research.google.com/notebooks/data_table.ipynb>data table notebook</a>'\n          + ' to learn more about interactive tables.';\n        element.innerHTML = '';\n        dataTable['output_type'] = 'display_data';\n        await google.colab.output.renderOutput(dataTable, element);\n        const docLink = document.createElement('div');\n        docLink.innerHTML = docLinkHtml;\n        element.appendChild(docLink);\n      }\n    </script>\n  </div>\n\n\n    <div id=\"df-93659110-e214-49dd-817c-ca59787da51f\">\n      <button class=\"colab-df-quickchart\" onclick=\"quickchart('df-93659110-e214-49dd-817c-ca59787da51f')\"\n                title=\"Suggest charts\"\n                style=\"display:none;\">\n\n<svg xmlns=\"http://www.w3.org/2000/svg\" height=\"24px\"viewBox=\"0 0 24 24\"\n     width=\"24px\">\n    <g>\n        <path d=\"M19 3H5c-1.1 0-2 .9-2 2v14c0 1.1.9 2 2 2h14c1.1 0 2-.9 2-2V5c0-1.1-.9-2-2-2zM9 17H7v-7h2v7zm4 0h-2V7h2v10zm4 0h-2v-4h2v4z\"/>\n    </g>\n</svg>\n      </button>\n\n<style>\n  .colab-df-quickchart {\n      --bg-color: #E8F0FE;\n      --fill-color: #1967D2;\n      --hover-bg-color: #E2EBFA;\n      --hover-fill-color: #174EA6;\n      --disabled-fill-color: #AAA;\n      --disabled-bg-color: #DDD;\n  }\n\n  [theme=dark] .colab-df-quickchart {\n      --bg-color: #3B4455;\n      --fill-color: #D2E3FC;\n      --hover-bg-color: #434B5C;\n      --hover-fill-color: #FFFFFF;\n      --disabled-bg-color: #3B4455;\n      --disabled-fill-color: #666;\n  }\n\n  .colab-df-quickchart {\n    background-color: var(--bg-color);\n    border: none;\n    border-radius: 50%;\n    cursor: pointer;\n    display: none;\n    fill: var(--fill-color);\n    height: 32px;\n    padding: 0;\n    width: 32px;\n  }\n\n  .colab-df-quickchart:hover {\n    background-color: var(--hover-bg-color);\n    box-shadow: 0 1px 2px rgba(60, 64, 67, 0.3), 0 1px 3px 1px rgba(60, 64, 67, 0.15);\n    fill: var(--button-hover-fill-color);\n  }\n\n  .colab-df-quickchart-complete:disabled,\n  .colab-df-quickchart-complete:disabled:hover {\n    background-color: var(--disabled-bg-color);\n    fill: var(--disabled-fill-color);\n    box-shadow: none;\n  }\n\n  .colab-df-spinner {\n    border: 2px solid var(--fill-color);\n    border-color: transparent;\n    border-bottom-color: var(--fill-color);\n    animation:\n      spin 1s steps(1) infinite;\n  }\n\n  @keyframes spin {\n    0% {\n      border-color: transparent;\n      border-bottom-color: var(--fill-color);\n      border-left-color: var(--fill-color);\n    }\n    20% {\n      border-color: transparent;\n      border-left-color: var(--fill-color);\n      border-top-color: var(--fill-color);\n    }\n    30% {\n      border-color: transparent;\n      border-left-color: var(--fill-color);\n      border-top-color: var(--fill-color);\n      border-right-color: var(--fill-color);\n    }\n    40% {\n      border-color: transparent;\n      border-right-color: var(--fill-color);\n      border-top-color: var(--fill-color);\n    }\n    60% {\n      border-color: transparent;\n      border-right-color: var(--fill-color);\n    }\n    80% {\n      border-color: transparent;\n      border-right-color: var(--fill-color);\n      border-bottom-color: var(--fill-color);\n    }\n    90% {\n      border-color: transparent;\n      border-bottom-color: var(--fill-color);\n    }\n  }\n</style>\n\n      <script>\n        async function quickchart(key) {\n          const quickchartButtonEl =\n            document.querySelector('#' + key + ' button');\n          quickchartButtonEl.disabled = true;  // To prevent multiple clicks.\n          quickchartButtonEl.classList.add('colab-df-spinner');\n          try {\n            const charts = await google.colab.kernel.invokeFunction(\n                'suggestCharts', [key], {});\n          } catch (error) {\n            console.error('Error during call to suggestCharts:', error);\n          }\n          quickchartButtonEl.classList.remove('colab-df-spinner');\n          quickchartButtonEl.classList.add('colab-df-quickchart-complete');\n        }\n        (() => {\n          let quickchartButtonEl =\n            document.querySelector('#df-93659110-e214-49dd-817c-ca59787da51f button');\n          quickchartButtonEl.style.display =\n            google.colab.kernel.accessAllowed ? 'block' : 'none';\n        })();\n      </script>\n    </div>\n\n  <div id=\"id_fd946f12-3a53-47b1-a5ec-1fb5d82bbc89\">\n    <style>\n      .colab-df-generate {\n        background-color: #E8F0FE;\n        border: none;\n        border-radius: 50%;\n        cursor: pointer;\n        display: none;\n        fill: #1967D2;\n        height: 32px;\n        padding: 0 0 0 0;\n        width: 32px;\n      }\n\n      .colab-df-generate:hover {\n        background-color: #E2EBFA;\n        box-shadow: 0px 1px 2px rgba(60, 64, 67, 0.3), 0px 1px 3px 1px rgba(60, 64, 67, 0.15);\n        fill: #174EA6;\n      }\n\n      [theme=dark] .colab-df-generate {\n        background-color: #3B4455;\n        fill: #D2E3FC;\n      }\n\n      [theme=dark] .colab-df-generate:hover {\n        background-color: #434B5C;\n        box-shadow: 0px 1px 3px 1px rgba(0, 0, 0, 0.15);\n        filter: drop-shadow(0px 1px 2px rgba(0, 0, 0, 0.3));\n        fill: #FFFFFF;\n      }\n    </style>\n    <button class=\"colab-df-generate\" onclick=\"generateWithVariable('df')\"\n            title=\"Generate code using this dataframe.\"\n            style=\"display:none;\">\n\n  <svg xmlns=\"http://www.w3.org/2000/svg\" height=\"24px\"viewBox=\"0 0 24 24\"\n       width=\"24px\">\n    <path d=\"M7,19H8.4L18.45,9,17,7.55,7,17.6ZM5,21V16.75L18.45,3.32a2,2,0,0,1,2.83,0l1.4,1.43a1.91,1.91,0,0,1,.58,1.4,1.91,1.91,0,0,1-.58,1.4L9.25,21ZM18.45,9,17,7.55Zm-12,3A5.31,5.31,0,0,0,4.9,8.1,5.31,5.31,0,0,0,1,6.5,5.31,5.31,0,0,0,4.9,4.9,5.31,5.31,0,0,0,6.5,1,5.31,5.31,0,0,0,8.1,4.9,5.31,5.31,0,0,0,12,6.5,5.46,5.46,0,0,0,6.5,12Z\"/>\n  </svg>\n    </button>\n    <script>\n      (() => {\n      const buttonEl =\n        document.querySelector('#id_fd946f12-3a53-47b1-a5ec-1fb5d82bbc89 button.colab-df-generate');\n      buttonEl.style.display =\n        google.colab.kernel.accessAllowed ? 'block' : 'none';\n\n      buttonEl.onclick = () => {\n        google.colab.notebook.generateWithVariable('df');\n      }\n      })();\n    </script>\n  </div>\n\n    </div>\n  </div>\n",
                  "application/vnd.google.colaboratory.intrinsic+json": {
                    "type": "dataframe",
                    "variable_name": "df"
                  }
                },
                "metadata": {}
              }
            ]
          }
        },
        "05584c3e10bb45eaae478f61c8fb08a9": {
          "model_module": "@jupyter-widgets/output",
          "model_name": "OutputModel",
          "model_module_version": "1.0.0",
          "state": {
            "_dom_classes": [],
            "_model_module": "@jupyter-widgets/output",
            "_model_module_version": "1.0.0",
            "_model_name": "OutputModel",
            "_view_count": null,
            "_view_module": "@jupyter-widgets/output",
            "_view_module_version": "1.0.0",
            "_view_name": "OutputView",
            "layout": "IPY_MODEL_2076bf38685340809e4f6818123e4000",
            "msg_id": "",
            "outputs": [
              {
                "output_type": "stream",
                "name": "stdout",
                "text": [
                  "Cars Created Per Year:\n"
                ]
              },
              {
                "output_type": "display_data",
                "data": {
                  "text/plain": "<Figure size 1200x600 with 1 Axes>",
                  "image/png": "iVBORw0KGgoAAAANSUhEUgAAA/YAAAIjCAYAAACpnIB8AAAAOnRFWHRTb2Z0d2FyZQBNYXRwbG90bGliIHZlcnNpb24zLjEwLjAsIGh0dHBzOi8vbWF0cGxvdGxpYi5vcmcvlHJYcgAAAAlwSFlzAAAPYQAAD2EBqD+naQAAXlVJREFUeJzt3XlclOX+//H3gCwiAi4smoqkhXtupeSSFkJmi2mZnlzTLENNrUzOMU0rt465FGW2iMfyVGb5PWmp5G6iJUdyK1PDrBTIldxY5P790Y85jizOjDPgja/n4+Gj5r6vua/ruvnA8ObeLIZhGAIAAAAAAKbkUdYDAAAAAAAAziPYAwAAAABgYgR7AAAAAABMjGAPAAAAAICJEewBAAAAADAxgj0AAAAAACZGsAcAAAAAwMQI9gAAAAAAmBjBHgAAAAAAEyPYAwBK1fr162WxWPTpp5+W9VDskpGRoYceekjVqlWTxWLR7NmzS63vTp06qUmTJldsd+jQIVksFiUmJjq0/cTERFksFh06dMi5AZqQs/uqNHXq1EmdOnUq62EUqaBmtm/fXtZDAQBcgmAPAOVQwS/fvr6++v333wuttzcwQho9erRWrVql+Ph4LVq0SHfffXehNp999pksFovefffdYreTlJQki8WiuXPnunO417wXX3xRFovF+s/Pz0+NGjXS+PHjlZWVVdbDM5W6deva7MtL/xVVp2UpNzdXTZs2Vb169XT+/PlC6w8dOiQ/Pz89/PDDZTA6ADC/CmU9AACA+2RnZ2vatGl6/fXXy3ooprV27Vo98MADevbZZ4tt061bNwUGBmrx4sUaMmRIkW0WL14sT09P9e7d2+VjDA8P1/nz5+Xl5eXybbvLW2+9JX9/f505c0arV6/WK6+8orVr1+qbb76RxWIp6+GZRvPmzfXMM88UWl6zZs0yGE3xvLy8NH/+fLVr104vvfSSpkyZYrN++PDh8vb2vu7/8AUAziLYA0A51rx5c73zzjuKj4+/5n7Rd7ezZ8+qUqVKV72dzMxMBQUFldjGx8dHDz30kBYsWKAjR44U2tcXLlzQ559/ri5duigkJOSqx3S5grMzzOShhx5S9erVJUlPPvmkevbsqc8++0xbt25VVFRUke85d+6c/Pz8SnOY17wbbrhBffv2Leth2CUqKkpPPvmk/vnPf+rRRx9V48aNJUlLly7VihUr9Oabb6pGjRpuH4erfjYAwLWEU/EBoBz7+9//rosXL2ratGkltivpumOLxaIXX3zR+rrgVOqffvpJffv2VWBgoIKDg/XCCy/IMAz9+uuveuCBBxQQEKCwsDDNnDmzyD4vXryov//97woLC1OlSpV0//3369dffy3Ubtu2bbr77rsVGBgoPz8/3XHHHfrmm29s2hSMae/evfrb3/6mKlWqqH379iXO+eeff9bDDz+sqlWrys/PT23bttWKFSus6wsuZzAMQwkJCdZTnIvTt29f5efn66OPPiq0bsWKFTp9+rQeffRR67IPPvhArVq1UsWKFVW1alX17t27yPlL0t69e9W5c2f5+fnphhtu0IwZM2zWF/f1+/HHH9WrVy8FBwerYsWKioyM1D/+8Y8S94skffXVV+rQoYMqVaqkypUrq1u3btqzZ49Nm/T0dA0aNEi1atWSj4+PatSooQceeMDp6/XvvPNOSVJaWpqk/10ukpKSoo4dO8rPz09///vfJf31x5bBgwcrNDRUvr6+uuWWW7Rw4cJC2zx16pQGDhyowMBABQUFacCAATp16lShdsVd0z5w4EDVrVvXZll+fr7mzJmjpk2bytfXV8HBwbr77rsLXXNu79d3/vz5qlevnipWrKjbbrtNmzZtsmd3OWTnzp0aOHCgbrzxRvn6+iosLEyPPfaYjh8/Xqjt77//rsGDB6tmzZry8fFRRESEhg0bppycHJt22dnZGjNmjIKDg1WpUiU9+OCD+uOPP644lqlTp6p69ep68sknZRiGzpw5o1GjRllDv2Tf9/wvv/yip556SpGRkapYsaKqVaumhx9+uFD9FXwfb9iwQU899ZRCQkJUq1YtB/cgAFz7OGIPAOVYRESE+vfvr3feeUfjxo1z6VH7Rx55RA0bNtS0adO0YsUKvfzyy6patarefvtt3XnnnZo+fbo+/PBDPfvss7r11lvVsWNHm/e/8sorslgsev7555WZmanZs2crOjpaqampqlixoqS/ToPv2rWrWrVqpYkTJ8rDw0MLFizQnXfeqU2bNum2226z2ebDDz+sm266SVOmTJFhGMWOPSMjQ7fffrvOnTunkSNHqlq1alq4cKHuv/9+ffrpp3rwwQfVsWNHLVq0SP369VOXLl3Uv3//EvdHx44dVatWLS1evFhjxoyxWbd48WL5+fmpe/fu1rm/8MIL6tWrl4YMGaI//vhDr7/+ujp27KgdO3bYnCFw8uRJ3X333erRo4d69eqlTz/9VM8//7yaNm2qrl27FjuenTt3qkOHDvLy8tLQoUNVt25dHTx4UF988YVeeeWVYt+3aNEiDRgwQLGxsZo+fbrOnTunt956S+3bt9eOHTusQbdnz57as2ePRowYobp16yozM1NJSUk6fPhwoTBsj4MHD0qSqlWrZl12/Phxde3aVb1791bfvn0VGhqq8+fPq1OnTjpw4ICGDx+uiIgILVmyRAMHDtSpU6f09NNPS5IMw9ADDzygzZs368knn1TDhg31+eefa8CAAQ6P7VKDBw9WYmKiunbtqiFDhigvL0+bNm3S1q1b1bp1a0n2f33fe+89PfHEE7r99ts1atQo/fzzz7r//vtVtWpV1a5d267x5Obm6tixY4WWV6pUyfp9lJSUpJ9//lmDBg1SWFiY9uzZo/nz52vPnj3aunWr9Q9WR44c0W233aZTp05p6NChatCggX7//Xd9+umnOnfunLy9va3bHzFihKpUqaKJEyfq0KFDmj17toYPH66PP/64xPEGBgZq7ty5evjhh/Xuu+9q7969ysjI0FdffSWLxWL39/x3332nLVu2qHfv3qpVq5YOHTqkt956S506ddLevXsLndnx1FNPKTg4WBMmTNDZs2ft2rcAYCoGAKDcWbBggSHJ+O6774yDBw8aFSpUMEaOHGldf8cddxiNGze2vk5LSzMkGQsWLCi0LUnGxIkTra8nTpxoSDKGDh1qXZaXl2fUqlXLsFgsxrRp06zLT548aVSsWNEYMGCAddm6desMScYNN9xgZGVlWZd/8sknhiRjzpw5hmEYRn5+vnHTTTcZsbGxRn5+vrXduXPnjIiICKNLly6FxtSnTx+79s+oUaMMScamTZusy/78808jIiLCqFu3rnHx4kWb+cfFxdm13eeee86QZOzbt8+67PTp04avr691bIcOHTI8PT2NV155xea9u3btMipUqGCz/I477jAkGf/617+sy7Kzs42wsDCjZ8+e1mVFff06duxoVK5c2fjll19s+rl0XxbUSVpamnUfBAUFGY8//rjNe9LT043AwEDr8pMnTxqSjFdffdWu/XKpgq/Vvn37jD/++MNIS0sz3n77bcPHx8cIDQ01zp49azP3efPm2bx/9uzZhiTjgw8+sC7LyckxoqKiDH9/f2tNLVu2zJBkzJgxw9ouLy/P6NChQ6F9dccddxh33HFHobEOGDDACA8Pt75eu3atIcnme6lAwX619+ubk5NjhISEGM2bNzeys7Ot7ebPn29IKnI8lwsPDzckFflv6tSp1nbnzp0r9N5///vfhiRj48aN1mX9+/c3PDw8jO+++67Y+RXUTHR0tE0tjR492vD09DROnTp1xXEbhmHce++9RmBgoOHp6WnEx8db+7D3e76oOSUnJxf6fikYb/v27Y28vDy7xgYAZsSp+ABQzt14443q16+f5s+fr6NHj7psu5feJM7T01OtW7eWYRgaPHiwdXlQUJAiIyP1888/F3p///79VblyZevrhx56SDVq1NCXX34pSUpNTdX+/fv1t7/9TcePH9exY8d07NgxnT17VnfddZc2btyo/Px8m20WnMp7JV9++aVuu+02m9P1/f39NXToUB06dEh79+61bydcpuBa58WLF1uXLV26VBcuXLCehv/ZZ58pPz9fvXr1ss7p2LFjCgsL00033aR169bZbNPf39/mGmpvb2/ddtttRe7TAn/88Yc2btyoxx57THXq1LFZV9LlBElJSTp16pT69OljMzZPT0+1adPGOraKFSvK29tb69ev18mTJ+3cO7YiIyMVHBysiIgIPfHEE6pfv75WrFhhc6TVx8dHgwYNsnnfl19+qbCwMPXp08e6zMvLSyNHjtSZM2e0YcMGa7sKFSpo2LBh1naenp4aMWKEU+OV/vpaWiwWTZw4sdC6gv1q79d3+/btyszM1JNPPmlzJLzg0gF7tWnTRklJSYX+Xbp/Co7cS3/d7+HYsWNq27atJOm///2vpL8uMVi2bJnuu+8+65kHRc2vwNChQ22WdejQQRcvXtQvv/xi17gTEhKUk5Oj2rVr64UXXpDk2Pf8pXPKzc3V8ePHVb9+fQUFBVnndKnHH39cnp6edo0NAMyIU/EB4Dowfvx4LVq0SNOmTdOcOXNcss3LA2NgYKB8fX2tN0S7dHlR1/LedNNNNq8tFovq169vvUZ2//79klTiqdOnT59WlSpVrK8jIiLsGvsvv/yiNm3aFFresGFD63pnHgfYrFkzNWnSRP/+97+t9yVYvHixqlevrtjYWEl/zcswjELzL3D5ne1r1apVKFRVqVJFO3fuLHYcBaHf0TkU7POC690vFxAQIOmvwD19+nQ988wzCg0NVdu2bXXvvfeqf//+CgsLs6uvpUuXKiAgQF5eXqpVq5bq1atXqM0NN9xgE3qlv742N910kzw8bI9NXPq1K/hvjRo15O/vb9MuMjLSrvEV5eDBg6pZs6aqVq1abBt7v74F47y8nZeXl2688Ua7x1S9enVFR0eX2ObEiROaNGmSPvroI2VmZtqsO336tKS//hiUlZVld81c/v1f8H1o7x966tSpo5CQEDVu3Nga0h35nj9//rymTp2qBQsW6Pfff7e59KZgTpey92cDAJgVwR4ArgM33nij+vbtq/nz52vcuHGF1hd3FPfixYvFbrOoo1/FHREzSrjevTgFR+ZeffVVNW/evMg2l4e2S4/ilZW+fftq3Lhx2r59u2rVqqV169bpiSeeUIUKf33k5ufny2Kx6Kuvvipyf10+J1fu0ysp2OeLFi0qMqAXzEGSRo0apfvuu0/Lli3TqlWr9MILL2jq1Klau3atWrRoccW+OnbsWOiPQJcrra9nwU0SL1dS/RfH0a9vaejVq5e2bNmi5557Ts2bN5e/v7/y8/N19913FzrrxV7uqEtHvudHjBihBQsWWG+8FxgYKIvFot69exc5p2vhZwMAuBPBHgCuE+PHj9cHH3yg6dOnF1pXcLTt8juG23tarTMKjs4VMAxDBw4cULNmzSTJegQ3ICDgikckHRUeHq59+/YVWv7jjz9a1zurT58+io+P1+LFixUeHq6LFy/a3A2/Xr16MgxDERERuvnmm53upyQFR3x3797t0PsK9nlISIhd+7xevXp65pln9Mwzz2j//v1q3ry5Zs6cqQ8++MDxQdspPDxcO3fuVH5+vs1R+8u/duHh4VqzZo3OnDljE6aL+rpXqVKlyEsbLq//evXqadWqVTpx4kSxR+3t/foWjHP//v02Z0jk5uYqLS1Nt9xyS7HvdcTJkye1Zs0aTZo0SRMmTLAuv/z7Lzg4WAEBAQ7XjCs58j3/6aefasCAATZP3bhw4UKRTz0AgOsB19gDwHWiXr166tu3r95++22lp6fbrAsICFD16tW1ceNGm+Vvvvmm28bzr3/9S3/++af19aeffqqjR49a7/TeqlUr1atXT//85z915syZQu+359Faxbnnnnv07bffKjk52brs7Nmzmj9/vurWratGjRo5ve06deqoQ4cO+vjjj/XBBx8oIiJCt99+u3V9jx495OnpqUmTJhU6umkYRpGXLTgqODhYHTt21Pvvv6/Dhw8X6qM4sbGxCggI0JQpU5Sbm1tofcE+P3funC5cuGCzrl69eqpcubKys7Ovevwlueeee5Senm5z9/W8vDy9/vrr8vf31x133GFtl5eXp7feesva7uLFi3r99dcLbbNevXr68ccfbWrq+++/L/SItZ49e8owDE2aNKnQNgr2q71f39atWys4OFjz5s2zeZRcYmKiS8NpwZH1y8cye/Zsm9ceHh7q3r27vvjii0KP7ivq/e7gyPe8p6dnoTG9/vrrTp1lAQDlAUfsAeA68o9//EOLFi3Svn371LhxY5t1Q4YM0bRp0zRkyBC1bt1aGzdu1E8//eS2sVStWlXt27fXoEGDlJGRodmzZ6t+/fp6/PHHJf0VNN5991117dpVjRs31qBBg3TDDTfo999/17p16xQQEKAvvvjCqb7HjRunf//73+ratatGjhypqlWrauHChUpLS9PSpUsLXb/tqL59+2ro0KE6cuRIoefG16tXTy+//LLi4+N16NAhde/eXZUrV1ZaWpo+//xzDR06VM8+++xV9S9Jc+fOVfv27dWyZUsNHTpUEREROnTokFasWKHU1NQi3xMQEKC33npL/fr1U8uWLdW7d28FBwfr8OHDWrFihdq1a6c33nhDP/30k+666y716tVLjRo1UoUKFfT5558rIyNDvXv3vuqxl2To0KF6++23NXDgQKWkpKhu3br69NNP9c0332j27NnWGzLed999ateuncaNG6dDhw6pUaNG+uyzz4q8/vqxxx7Ta6+9ptjYWA0ePFiZmZmaN2+eGjdurKysLGu7zp07q1+/fpo7d672799vPZV906ZN6ty5s4YPH27319fLy0svv/yynnjiCd1555165JFHlJaWpgULFjh0jf3vv/9e5BkS/v7+6t69uwICAtSxY0fNmDFDubm5uuGGG7R69WqlpaUVes+UKVO0evVq3XHHHRo6dKgaNmyoo0ePasmSJdq8ebPNYxjdwZHv+XvvvVeLFi1SYGCgGjVqpOTkZH399dc2j0sEgOtKqd6DHwBQKi593N3lBgwYYEiyedydYfz1+KjBgwcbgYGBRuXKlY1evXoZmZmZxT7u7o8//ii03UqVKhXq7/JH6xU87u7f//63ER8fb4SEhBgVK1Y0unXrVujRbIZhGDt27DB69OhhVKtWzfDx8THCw8ONXr16GWvWrLnimEpy8OBB46GHHjKCgoIMX19f47bbbjOWL19eqJ0ceNxdgRMnThg+Pj6GJGPv3r1Ftlm6dKnRvn17o1KlSkalSpWMBg0aGHFxcTaPyrt83xW4/DFsxT2ucPfu3caDDz5onWNkZKTxwgsvWNdf/ri7AuvWrTNiY2ONwMBAw9fX16hXr54xcOBAY/v27YZhGMaxY8eMuLg4o0GDBkalSpWMwMBAo02bNsYnn3xyxX1j79equLkbhmFkZGQYgwYNMqpXr254e3sbTZs2LfJRjcePHzf69etnBAQEGIGBgUa/fv2MHTt2FLmvPvjgA+PGG280vL29jebNmxurVq0qtJ8N469H5r366qtGgwYNDG9vbyM4ONjo2rWrkZKSYtPOnq+vYRjGm2++aURERBg+Pj5G69atjY0bNxb7+L3LlfS4u0vH/dtvv1nrIDAw0Hj44YeNI0eOFPreNgzD+OWXX4z+/fsbwcHBho+Pj3HjjTcacXFx1kfyFfezpeD7et26dVcc96Xj79atW6Hl9nzPnzx50loD/v7+RmxsrPHjjz8a4eHhNo/XLOlnIQCUJxbDKIVzqwAAAAAAgFtwjT0AAAAAACZGsAcAAAAAwMQI9gAAAAAAmBjBHgAAAAAAEyPYAwAAAABgYgR7AAAAAABMrEJZD8AM8vPzdeTIEVWuXFkWi6WshwMAAAAAKOcMw9Cff/6pmjVrysOj5GPyBHs7HDlyRLVr1y7rYQAAAAAArjO//vqratWqVWIbgr0dKleuLOmvHRoQEOC2fnJzc7V69WrFxMTIy8vLbf2gfKFu4ChqBs6gbuAM6gbOoG7gjPJYN1lZWapdu7Y1j5aEYG+HgtPvAwIC3B7s/fz8FBAQUG6KEe5H3cBR1AycQd3AGdQNnEHdwBnluW7suRycm+cBAAAAAGBiZR7sf//9d/Xt21fVqlVTxYoV1bRpU23fvt263jAMTZgwQTVq1FDFihUVHR2t/fv322zjxIkTevTRRxUQEKCgoCANHjxYZ86csWmzc+dOdejQQb6+vqpdu7ZmzJhRKvMDAAAAAMCdyjTYnzx5Uu3atZOXl5e++uor7d27VzNnzlSVKlWsbWbMmKG5c+dq3rx52rZtmypVqqTY2FhduHDB2ubRRx/Vnj17lJSUpOXLl2vjxo0aOnSodX1WVpZiYmIUHh6ulJQUvfrqq3rxxRc1f/78Up0vAAAAAACuVqbX2E+fPl21a9fWggULrMsiIiKs/28YhmbPnq3x48frgQcekCT961//UmhoqJYtW6bevXvrhx9+0MqVK/Xdd9+pdevWkqTXX39d99xzj/75z3+qZs2a+vDDD5WTk6P3339f3t7eaty4sVJTU/Xaa6/Z/AEAAAAAAACzKdNg/5///EexsbF6+OGHtWHDBt1www166qmn9Pjjj0uS0tLSlJ6erujoaOt7AgMD1aZNGyUnJ6t3795KTk5WUFCQNdRLUnR0tDw8PLRt2zY9+OCDSk5OVseOHeXt7W1tExsbq+nTp+vkyZM2ZwhIUnZ2trKzs62vs7KyJP11Q4bc3Fy37IuC7V/6X8Ae1A0cRc3AGdQNnEHdwBnUDZxRHuvGkbmUabD/+eef9dZbb2nMmDH6+9//ru+++04jR46Ut7e3BgwYoPT0dElSaGiozftCQ0Ot69LT0xUSEmKzvkKFCqpatapNm0vPBLh0m+np6YWC/dSpUzVp0qRC4129erX8/PyuYsb2SUpKcnsfKH+oGziKmoEzqBs4g7qBM6gbOKM81c25c+fsblumwT4/P1+tW7fWlClTJEktWrTQ7t27NW/ePA0YMKDMxhUfH68xY8ZYXxc8PzAmJsbtj7tLSkpSly5dyt0jGuA+1A0cRc3AGdQNnEHdwBnUDZxRHuum4Mxxe5RpsK9Ro4YaNWpks6xhw4ZaunSpJCksLEySlJGRoRo1aljbZGRkqHnz5tY2mZmZNtvIy8vTiRMnrO8PCwtTRkaGTZuC1wVtLuXj4yMfH59Cy728vEqlSEqrH5Qv1A0cRc3AGdQNnEHdwBnUDZxRnurGkXmU6V3x27Vrp3379tks++mnnxQeHi7prxvphYWFac2aNdb1WVlZ2rZtm6KioiRJUVFROnXqlFJSUqxt1q5dq/z8fLVp08baZuPGjTbXKCQlJSkyMrLQafgAAAAAAJhJmQb70aNHa+vWrZoyZYoOHDigxYsXa/78+YqLi5MkWSwWjRo1Si+//LL+85//aNeuXerfv79q1qyp7t27S/rrCP/dd9+txx9/XN9++62++eYbDR8+XL1791bNmjUlSX/729/k7e2twYMHa8+ePfr44481Z84cm9PtAQAAAAAwozI9Ff/WW2/V559/rvj4eE2ePFkRERGaPXu2Hn30UWubsWPH6uzZsxo6dKhOnTql9u3ba+XKlfL19bW2+fDDDzV8+HDddddd8vDwUM+ePTV37lzr+sDAQK1evVpxcXFq1aqVqlevrgkTJvCoOwAAAACA6ZVpsJeke++9V/fee2+x6y0WiyZPnqzJkycX26Zq1apavHhxif00a9ZMmzZtcnqcAAAAAABci8r0VHwAAAAAAHB1CPYAAAAAAJgYwR4AAAAAABMj2AMAAAAAYGIEewAAAAAATIxgDwAAAACAiRHsAQAAAAAwsTJ/jj0AANeqaTuOuW3b41pUd9u2AQDA9YUj9gAAAAAAmBjBHgAAAAAAEyPYAwAAAABgYgR7AAAAAABMjGAPAAAAAICJEewBAAAAADAxgj0AAAAAACZGsAcAAAAAwMQI9gAAAAAAmBjBHgAAAAAAEyPYAwAAAABgYgR7AAAAAABMjGAPAAAAAICJEewBAAAAADAxgj0AAAAAACZGsAcAAAAAwMQI9gAAAAAAmBjBHgAAAAAAEyPYAwAAAABgYgR7AAAAAABMjGAPAAAAAICJEewBAAAAADAxgj0AAAAAACZGsAcAAAAAwMQI9gAAAAAAmBjBHgAAAAAAEyPYAwAAAABgYgR7AAAAAABMjGAPAAAAAICJEewBAAAAADAxgj0AAAAAACZGsAcAAAAAwMQI9gAAAAAAmBjBHgAAAAAAEyPYAwAAAABgYgR7AAAAAABMjGAPAAAAAICJEewBAAAAADAxgj0AAAAAACZGsAcAAAAAwMQI9gAAAAAAmBjBHgAAAAAAEyPYAwAAAABgYgR7AAAAAABMjGAPAAAAAICJEewBAAAAADAxgj0AAAAAACZGsAcAAAAAwMQI9gAAAAAAmBjBHgAAAAAAEyPYAwAAAABgYgR7AAAAAABMjGAPAAAAAICJEewBAAAAADAxgj0AAAAAACZGsAcAAAAAwMTKNNi/+OKLslgsNv8aNGhgXX/hwgXFxcWpWrVq8vf3V8+ePZWRkWGzjcOHD6tbt27y8/NTSEiInnvuOeXl5dm0Wb9+vVq2bCkfHx/Vr19fiYmJpTE9AAAAAADcrsyP2Ddu3FhHjx61/tu8ebN13ejRo/XFF19oyZIl2rBhg44cOaIePXpY11+8eFHdunVTTk6OtmzZooULFyoxMVETJkywtklLS1O3bt3UuXNnpaamatSoURoyZIhWrVpVqvMEAAAAAMAdKpT5ACpUUFhYWKHlp0+f1nvvvafFixfrzjvvlCQtWLBADRs21NatW9W2bVutXr1ae/fu1ddff63Q0FA1b95cL730kp5//nm9+OKL8vb21rx58xQREaGZM2dKkho2bKjNmzdr1qxZio2NLdW5AgAAAADgamUe7Pfv36+aNWvK19dXUVFRmjp1qurUqaOUlBTl5uYqOjra2rZBgwaqU6eOkpOT1bZtWyUnJ6tp06YKDQ21tomNjdWwYcO0Z88etWjRQsnJyTbbKGgzatSoYseUnZ2t7Oxs6+usrCxJUm5urnJzc10088IKtu3OPlD+UDdwFDVjP4/8vCs3cpLZ9j91A2dQN3AGdQNnlMe6cWQuZRrs27Rpo8TEREVGRuro0aOaNGmSOnTooN27dys9PV3e3t4KCgqyeU9oaKjS09MlSenp6TahvmB9wbqS2mRlZen8+fOqWLFioXFNnTpVkyZNKrR89erV8vPzc3q+9kpKSnJ7Hyh/qBs4ipq5skg3bvvL39y4cTeibuAM6gbOoG7gjPJUN+fOnbO7bZkG+65du1r/v1mzZmrTpo3Cw8P1ySefFBm4S0t8fLzGjBljfZ2VlaXatWsrJiZGAQEBbus3NzdXSUlJ6tKli7y8vNzWD8oX6gaOombsN2vncbdte3Szam7btjtQN3AGdQNnUDdwRnmsm4Izx+1R5qfiXyooKEg333yzDhw4oC5duignJ0enTp2yOWqfkZFhvSY/LCxM3377rc02Cu6af2mby++kn5GRoYCAgGL/eODj4yMfH59Cy728vEqlSEqrH5Qv1A0cRc1cWb6H+z4mzbrvqRs4g7qBM6gbOKM81Y0j8yjzu+Jf6syZMzp48KBq1KihVq1aycvLS2vWrLGu37dvnw4fPqyoqChJUlRUlHbt2qXMzExrm6SkJAUEBKhRo0bWNpduo6BNwTYAAAAAADCzMg32zz77rDZs2KBDhw5py5YtevDBB+Xp6ak+ffooMDBQgwcP1pgxY7Ru3TqlpKRo0KBBioqKUtu2bSVJMTExatSokfr166fvv/9eq1at0vjx4xUXF2c94v7kk0/q559/1tixY/Xjjz/qzTff1CeffKLRo0eX5dQBAAAAAHCJMj0V/7ffflOfPn10/PhxBQcHq3379tq6dauCg4MlSbNmzZKHh4d69uyp7OxsxcbG6s0337S+39PTU8uXL9ewYcMUFRWlSpUqacCAAZo8ebK1TUREhFasWKHRo0drzpw5qlWrlt59910edQcAAAAAKBfKNNh/9NFHJa739fVVQkKCEhISim0THh6uL7/8ssTtdOrUSTt27HBqjAAAAAAAXMuuqWvsAQAAAACAYwj2AAAAAACYGMEeAAAAAAATI9gDAAAAAGBiBHsAAAAAAEyMYA8AAAAAgIkR7AEAAAAAMDGCPQAAAAAAJkawBwAAAADAxAj2AAAAAACYGMEeAAAAAAATI9gDAAAAAGBiBHsAAAAAAEyMYA8AAAAAgIkR7AEAAAAAMDGCPQAAAAAAJkawBwAAAADAxAj2AAAAAACYGMEeAAAAAAATI9gDAAAAAGBiBHsAAAAAAEyMYA8AAAAAgIkR7AEAAAAAMDGCPQAAAAAAJkawBwAAAADAxAj2AAAAAACYGMEeAAAAAAATI9gDAAAAAGBiBHsAAAAAAEyMYA8AAAAAgIkR7AEAAAAAMDGCPQAAAAAAJkawBwAAAADAxAj2AAAAAACYGMEeAAAAAAATI9gDAAAAAGBiBHsAAAAAAEyMYA8AAAAAgIkR7AEAAAAAMDGCPQAAAAAAJkawBwAAAADAxAj2AAAAAACYGMEeAAAAAAATI9gDAAAAAGBiBHsAAAAAAEyMYA8AAAAAgIkR7AEAAAAAMDGCPQAAAAAAJkawBwAAAADAxAj2AAAAAACYGMEeAAAAAAATI9gDAAAAAGBiBHsAAAAAAEyMYA8AAAAAgIkR7AEAAAAAMDGCPQAAAAAAJkawBwAAAADAxAj2AAAAAACYGMEeAAAAAAATI9gDAAAAAGBiBHsAAAAAAEyMYA8AAAAAgIkR7AEAAAAAMDGCPQAAAAAAJkawBwAAAADAxK6ZYD9t2jRZLBaNGjXKuuzChQuKi4tTtWrV5O/vr549eyojI8PmfYcPH1a3bt3k5+enkJAQPffcc8rLy7Nps379erVs2VI+Pj6qX7++EhMTS2FGAAAAAAC43zUR7L/77ju9/fbbatasmc3y0aNH64svvtCSJUu0YcMGHTlyRD169LCuv3jxorp166acnBxt2bJFCxcuVGJioiZMmGBtk5aWpm7duqlz585KTU3VqFGjNGTIEK1atarU5gcAAAAAgLuUebA/c+aMHn30Ub3zzjuqUqWKdfnp06f13nvv6bXXXtOdd96pVq1aacGCBdqyZYu2bt0qSVq9erX27t2rDz74QM2bN1fXrl310ksvKSEhQTk5OZKkefPmKSIiQjNnzlTDhg01fPhwPfTQQ5o1a1aZzBcAAAAAAFeqUNYDiIuLU7du3RQdHa2XX37ZujwlJUW5ubmKjo62LmvQoIHq1Kmj5ORktW3bVsnJyWratKlCQ0OtbWJjYzVs2DDt2bNHLVq0UHJyss02Ctpcesr/5bKzs5WdnW19nZWVJUnKzc1Vbm7u1U65WAXbdmcfKH+oGziKmrGfR37elRs5yWz7n7qBM6gbOIO6gTPKY904MpcyDfYfffSR/vvf/+q7774rtC49PV3e3t4KCgqyWR4aGqr09HRrm0tDfcH6gnUltcnKytL58+dVsWLFQn1PnTpVkyZNKrR89erV8vPzs3+CTkpKSnJ7Hyh/qBs4ipq5skg3bvvL39y4cTeibuAM6gbOoG7gjPJUN+fOnbO7bZkF+19//VVPP/20kpKS5OvrW1bDKFJ8fLzGjBljfZ2VlaXatWsrJiZGAQEBbus3NzdXSUlJ6tKli7y8vNzWD8oX6gaOombsN2vncbdte3Szam7btjtQN3AGdQNnUDdwRnmsm4Izx+1RZsE+JSVFmZmZatmypXXZxYsXtXHjRr3xxhtatWqVcnJydOrUKZuj9hkZGQoLC5MkhYWF6dtvv7XZbsFd8y9tc/md9DMyMhQQEFDk0XpJ8vHxkY+PT6HlXl5epVIkpdUPyhfqBo6iZq4s38N9H5Nm3ffUDZxB3cAZ1A2cUZ7qxpF5lNnN8+666y7t2rVLqamp1n+tW7fWo48+av1/Ly8vrVmzxvqeffv26fDhw4qKipIkRUVFadeuXcrMzLS2SUpKUkBAgBo1amRtc+k2CtoUbAMAAAAAADMrsyP2lStXVpMmTWyWVapUSdWqVbMuHzx4sMaMGaOqVasqICBAI0aMUFRUlNq2bStJiomJUaNGjdSvXz/NmDFD6enpGj9+vOLi4qxH3J988km98cYbGjt2rB577DGtXbtWn3zyiVasWFG6EwYAAAAAwA3K/K74JZk1a5Y8PDzUs2dPZWdnKzY2Vm+++aZ1vaenp5YvX65hw4YpKipKlSpV0oABAzR58mRrm4iICK1YsUKjR4/WnDlzVKtWLb377ruKjY0tiykBAAAAAOBS11SwX79+vc1rX19fJSQkKCEhodj3hIeH68svvyxxu506ddKOHTtcMUQAAAAAAK4pDl9jv3DhQpvT2MeOHaugoCDdfvvt+uWXX1w6OAAAAAAAUDKHg/2UKVOsd5NPTk5WQkKCZsyYoerVq2v06NEuHyAAAAAAACiew6fi//rrr6pfv74kadmyZerZs6eGDh2qdu3aqVOnTq4eHwAAAAAAKIHDR+z9/f11/PhxSdLq1avVpUsXSX9dD3/+/HnXjg4AAAAAAJTI4SP2Xbp00ZAhQ9SiRQv99NNPuueeeyRJe/bsUd26dV09PgAAAAAAUAKHj9gnJCQoKipKf/zxh5YuXapq1apJklJSUtSnTx+XDxAAAAAAABTP4SP2QUFBeuONNwotnzRpkksGBAAAAAAA7OfwEXtJ2rRpk/r27avbb79dv//+uyRp0aJF2rx5s0sHBwAAAAAASuZwsF+6dKliY2NVsWJF/fe//1V2drYk6fTp05oyZYrLBwgAAAAAAIrncLB/+eWXNW/ePL3zzjvy8vKyLm/Xrp3++9//unRwAAAAAACgZA4H+3379qljx46FlgcGBurUqVOuGBMAAAAAALCTw8E+LCxMBw4cKLR88+bNuvHGG10yKAAAAAAAYB+Hg/3jjz+up59+Wtu2bZPFYtGRI0f04Ycf6tlnn9WwYcPcMUYAAAAAAFAMhx93N27cOOXn5+uuu+7SuXPn1LFjR/n4+OjZZ5/ViBEj3DFGAAAAAABQDIeDvcVi0T/+8Q8999xzOnDggM6cOaNGjRrJ39/fHeMDAAAAAAAlcDjYF/D29lajRo1cORYAAAAAAOAgu4J9jx497N7gZ5995vRgAAAAAACAY+wK9oGBge4eBwAAAAAAcIJdwX7BggXuHgcAAAAAAHCCw4+7S0tL0/79+wst379/vw4dOuSKMQEAAAAAADs5HOwHDhyoLVu2FFq+bds2DRw40BVjAgAAAAAAdnI42O/YsUPt2rUrtLxt27ZKTU11xZgAAAAAAICdHA72FotFf/75Z6Hlp0+f1sWLF10yKAAAAAAAYB+Hg33Hjh01depUmxB/8eJFTZ06Ve3bt3fp4AAAAAAAQMnsuiv+paZPn66OHTsqMjJSHTp0kCRt2rRJWVlZWrt2rcsHCAAAAAAAiufwEftGjRpp586d6tWrlzIzM/Xnn3+qf//++vHHH9WkSRN3jBEAAAAAABTD4SP2klSzZk1NmTLF1WMBAAAAAAAOsivY79y5U02aNJGHh4d27txZYttmzZq5ZGAAAAAAAODK7Ar2zZs3V3p6ukJCQtS8eXNZLBYZhlGoncVi4c74AAAAAACUIruCfVpamoKDg63/DwAAAAAArg12Bfvw8PAi/x8AAAAAAJQtp26et3//fq1bt06ZmZnKz8+3WTdhwgSXDAwAAAAAAFyZw8H+nXfe0bBhw1S9enWFhYXJYrFY11ksFoI9AAAAAAClyOFg//LLL+uVV17R888/747xAAAAAAAAB3g4+oaTJ0/q4YcfdsdYAAAAAACAgxwO9g8//LBWr17tjrEAAAAAAAAH2XUq/ty5c63/X79+fb3wwgvaunWrmjZtKi8vL5u2I0eOdO0IAQAAAABAsewK9rNmzbJ57e/vrw0bNmjDhg02yy0WC8EeAAAAAIBSZFewT0tLc/c4AAAAAACAExy+xr5ATk6O9u3bp7y8PFeOBwAAAAAAOMDhYH/u3DkNHjxYfn5+aty4sQ4fPixJGjFihKZNm+byAQIAAAAAgOI5HOzj4+P1/fffa/369fL19bUuj46O1scff+zSwQEAAAAAgJLZdY39pZYtW6aPP/5Ybdu2lcVisS5v3LixDh486NLBAQAAAACAkjl8xP6PP/5QSEhIoeVnz561CfoAAAAAAMD9HA72rVu31ooVK6yvC8L8u+++q6ioKNeNDAAAAAAAXJHDp+JPmTJFXbt21d69e5WXl6c5c+Zo79692rJlS6Hn2gMAAAAAAPey+4j97t27JUnt27dXamqq8vLy1LRpU61evVohISFKTk5Wq1at3DZQAAAAAABQmN1H7Js1a6Zbb71VQ4YMUe/evfXOO++4c1wAAAAAAMAOdh+x37Bhgxo3bqxnnnlGNWrU0MCBA7Vp0yZ3jg0AAAAAAFyB3cG+Q4cOev/993X06FG9/vrrSktL0x133KGbb75Z06dPV3p6ujvHCQAAAAAAiuDwXfErVaqkQYMGacOGDfrpp5/08MMPKyEhQXXq1NH999/vjjECAAAAAIBiOBzsL1W/fn39/e9/1/jx41W5cmWbx+ABAAAAAAD3c/hxdwU2btyo999/X0uXLpWHh4d69eqlwYMHu3JsAAAAAADgChwK9keOHFFiYqISExN14MAB3X777Zo7d6569eqlSpUquWuMAAAAAACgGHYH+65du+rrr79W9erV1b9/fz322GOKjIx059gAAAAAAMAV2B3svby89Omnn+ree++Vp6enO8cEAAAAAADsZHew/89//uPOcQAAAAAAACdc1V3xAQAAAABA2SLYAwAAAABgYgR7AAAAAABMzK5g37JlS508eVKSNHnyZJ07d86tgwIAAAAAAPaxK9j/8MMPOnv2rCRp0qRJOnPmjFsHBQAAAAAA7GPXXfGbN2+uQYMGqX379jIMQ//85z/l7+9fZNsJEya4dIAAAAAAAKB4dgX7xMRETZw4UcuXL5fFYtFXX32lChUKv9VisRDsAQAAAAAoRXYF+8jISH300UeSJA8PD61Zs0YhISFuHRgAAAAAALgyh++Kn5+f77JQ/9Zbb6lZs2YKCAhQQECAoqKi9NVXX1nXX7hwQXFxcapWrZr8/f3Vs2dPZWRk2Gzj8OHD6tatm/z8/BQSEqLnnntOeXl5Nm3Wr1+vli1bysfHR/Xr11diYqJLxg8AAAAAQFlz6nF3Bw8e1IgRIxQdHa3o6GiNHDlSBw8edHg7tWrV0rRp05SSkqLt27frzjvv1AMPPKA9e/ZIkkaPHq0vvvhCS5Ys0YYNG3TkyBH16NHD+v6LFy+qW7duysnJ0ZYtW7Rw4UIlJibaXA6Qlpambt26qXPnzkpNTdWoUaM0ZMgQrVq1ypmpAwAAAABwTXE42K9atUqNGjXSt99+q2bNmqlZs2batm2bGjdurKSkJIe2dd999+mee+7RTTfdpJtvvlmvvPKK/P39tXXrVp0+fVrvvfeeXnvtNd15551q1aqVFixYoC1btmjr1q2SpNWrV2vv3r364IMP1Lx5c3Xt2lUvvfSSEhISlJOTI0maN2+eIiIiNHPmTDVs2FDDhw/XQw89pFmzZjk6dQAAAAAArjl2XWN/qXHjxmn06NGaNm1aoeXPP/+8unTp4tRALl68qCVLlujs2bOKiopSSkqKcnNzFR0dbW3ToEED1alTR8nJyWrbtq2Sk5PVtGlThYaGWtvExsZq2LBh2rNnj1q0aKHk5GSbbRS0GTVqVLFjyc7OVnZ2tvV1VlaWJCk3N1e5ublOzc8eBdt2Zx8of6gbOIqasZ9Hft6VGznJbPufuoEzqBs4g7qBM8pj3TgyF4eD/Q8//KBPPvmk0PLHHntMs2fPdnRz2rVrl6KionThwgX5+/vr888/V6NGjZSamipvb28FBQXZtA8NDVV6erokKT093SbUF6wvWFdSm6ysLJ0/f14VK1YsNKapU6dq0qRJhZavXr1afn5+Ds/RUY6e+QBI1A0cR81cWaQbt/3lb27cuBtRN3AGdQNnUDdwRnmqm3Pnztnd1uFgHxwcrNTUVN100002y1NTU526qV5kZKRSU1N1+vRpffrppxowYIA2bNjg8HZcKT4+XmPGjLG+zsrKUu3atRUTE6OAgAC39Zubm6ukpCR16dJFXl5ebusH5Qt1A0dRM/abtfO427Y9ulk1t23bHagbOIO6gTOoGzijPNZNwZnj9nA42D/++OMaOnSofv75Z91+++2SpG+++UbTp0+3CcP28vb2Vv369SVJrVq10nfffac5c+bokUceUU5Ojk6dOmVz1D4jI0NhYWGSpLCwMH377bc22yu4a/6lbS6/k35GRoYCAgKKPFovST4+PvLx8Sm03MvLq1SKpLT6QflC3cBR1MyV5Xs4/DFpN7Pue+oGzqBu4AzqBs4oT3XjyDwc/o3lhRdeUOXKlTVz5kzFx8dLkmrWrKkXX3xRI0eOdHRzheTn5ys7O1utWrWSl5eX1qxZo549e0qS9u3bp8OHDysqKkqSFBUVpVdeeUWZmZnWswWSkpIUEBCgRo0aWdt8+eWXNn0kJSVZtwEAAAAAgJk5HOwtFotGjx6t0aNH688//5QkVa5c2anO4+Pj1bVrV9WpU0d//vmnFi9erPXr12vVqlUKDAzU4MGDNWbMGFWtWlUBAQEaMWKEoqKi1LZtW0lSTEyMGjVqpH79+mnGjBlKT0/X+PHjFRcXZz3i/uSTT+qNN97Q2LFj9dhjj2nt2rX65JNPtGLFCqfGDAAAAADAteSqzjF0NtAXyMzMVP/+/XX06FEFBgaqWbNmWrVqlfXO+rNmzZKHh4d69uyp7OxsxcbG6s0337S+39PTU8uXL9ewYcMUFRWlSpUqacCAAZo8ebK1TUREhFasWKHRo0drzpw5qlWrlt59913FxsZe1dgBAAAAALgWuO/iQTu89957Ja739fVVQkKCEhISim0THh5e6FT7y3Xq1Ek7duxwaowAAAAAAFzLPMp6AAAAAAAAwHkEewAAAAAATMyhYJ+bm6u77rpL+/fvd9d4AAAAAACAAxwK9l5eXtq5c6e7xgIAAAAAABzk8Kn4ffv2veJN7wAAAAAAQOlw+K74eXl5ev/99/X111+rVatWqlSpks361157zWWDAwAAAAAAJXM42O/evVstW7aUJP3000826ywWi2tGBQAAAAAA7OJwsF+3bp07xgEAAAAAAJzg9OPuDhw4oFWrVun8+fOSJMMwXDYoAAAAAABgH4eD/fHjx3XXXXfp5ptv1j333KOjR49KkgYPHqxnnnnG5QMEAAAAAADFczjYjx49Wl5eXjp8+LD8/Pysyx955BGtXLnSpYMDAAAAAAAlc/ga+9WrV2vVqlWqVauWzfKbbrpJv/zyi8sGBgAAAAC4fk3bcczuth75eYqUNGvnceV7XDnmjmtR/SpGdu1x+Ij92bNnbY7UFzhx4oR8fHxcMigAAAAAAGAfh4N9hw4d9K9//cv62mKxKD8/XzNmzFDnzp1dOjgAAAAAAFAyh0/FnzFjhu666y5t375dOTk5Gjt2rPbs2aMTJ07om2++cccYAQAAAABAMRwO9k2aNNFPP/2kN954Q5UrV9aZM2fUo0cPxcXFqUaNGu4YIwAAKCccuV7SUeXtekkAAOzlcLCXpMDAQP3jH/9w9VgAAAAAAICDnAr2J0+e1HvvvacffvhBktSoUSMNGjRIVatWdengAAAAAABAyRy+ed7GjRtVt25dzZ07VydPntTJkyc1d+5cRUREaOPGje4YIwAAAAAAKIbDR+zj4uL0yCOP6K233pKnp6ck6eLFi3rqqacUFxenXbt2uXyQAADAPey95t3R5wNLXPMOAEBpcfiI/YEDB/TMM89YQ70keXp6asyYMTpw4IBLBwcAAAAAAErmcLBv2bKl9dr6S/3www+65ZZbXDIoAAAAAABgH7vOpdu5c6f1/0eOHKmnn35aBw4cUNu2bSVJW7duVUJCgqZNm+aeUQIAAAAAgCLZFeybN28ui8UiwzCsy8aOHVuo3d/+9jc98sgjrhsdAAAAAAAokV3BPi0tzd3jAADgumfvjeycwY3sAAAov+wK9uHh4e4eBwAAAAAAcILDj7uTpCNHjmjz5s3KzMxUfn6+zbqRI0e6ZGAAAAAAAODKHA72iYmJeuKJJ+Tt7a1q1arJYrFY11ksFoI9AAAAAAClyOFg/8ILL2jChAmKj4+Xh4fDT8sDAAAAAAAu5HAyP3funHr37k2oBwAAAADgGuBwOh88eLCWLFnijrEAAAAAAAAHOXwq/tSpU3Xvvfdq5cqVatq0qby8vGzWv/baay4bHAAAAAAAKJlTwX7VqlWKjIyUpEI3zwMAAAAAAKXH4WA/c+ZMvf/++xo4cKAbhgMAAAAAABzh8DX2Pj4+ateunTvGAgAAAAAAHORwsH/66af1+uuvu2MsAAAAAADAQQ6fiv/tt99q7dq1Wr58uRo3blzo5nmfffaZywYHAAAAAABK5nCwDwoKUo8ePdwxFgAAAAAA4CCHg/2CBQvcMQ4AAAAAAOAEh6+xBwAAAAAA1w6Hj9hHRESU+Lz6n3/++aoGBAAAAAAA7OdwsB81apTN69zcXO3YsUMrV67Uc88956pxAQAAAAAAOzgc7J9++ukilyckJGj79u1XPSAAAAAAAGA/l11j37VrVy1dutRVmwMAAAAAAHZw+Ih9cT799FNVrVrVVZsDADho2o5jdrXzyM9TpKRZO48r38O+j4FxLapfxcgAAADgTg4H+xYtWtjcPM8wDKWnp+uPP/7Qm2++6dLBAQAAAACAkjkc7Lt3727z2sPDQ8HBwerUqZMaNGjgqnEBAAAAAAA7OBzsJ06c6I5xAAAAAAAAJ7js5nkAAAAAAKD02X3E3sPDw+ba+qJYLBbl5eVd9aAAAAAAAIB97A72n3/+ebHrkpOTNXfuXOXn57tkUAAAAAAAwD52B/sHHnig0LJ9+/Zp3Lhx+uKLL/Too49q8uTJLh0cAAAAAAAomVPX2B85ckSPP/64mjZtqry8PKWmpmrhwoUKDw939fgAAAAAAEAJHAr2p0+f1vPPP6/69etrz549WrNmjb744gs1adLEXeMDAAAAAAAlsPtU/BkzZmj69OkKCwvTv//97yJPzQcAAAAAAKXL7mA/btw4VaxYUfXr19fChQu1cOHCItt99tlnLhscAAAAAAAomd3Bvn///ld83B0AAAAAAChddgf7xMRENw4DAAAAAAA4w6m74gMAAAAAgGsDwR4AAAAAABMj2AMAAAAAYGIEewAAAAAATIxgDwAAAACAiRHsAQAAAAAwsTIN9lOnTtWtt96qypUrKyQkRN27d9e+ffts2ly4cEFxcXGqVq2a/P391bNnT2VkZNi0OXz4sLp16yY/Pz+FhIToueeeU15enk2b9evXq2XLlvLx8VH9+vV5fB8AAAAAoFwo02C/YcMGxcXFaevWrUpKSlJubq5iYmJ09uxZa5vRo0friy++0JIlS7RhwwYdOXJEPXr0sK6/ePGiunXrppycHG3ZskULFy5UYmKiJkyYYG2Tlpambt26qXPnzkpNTdWoUaM0ZMgQrVq1qlTnCwAAAACAq1Uoy85Xrlxp8zoxMVEhISFKSUlRx44ddfr0ab333ntavHix7rzzTknSggUL1LBhQ23dulVt27bV6tWrtXfvXn399dcKDQ1V8+bN9dJLL+n555/Xiy++KG9vb82bN08RERGaOXOmJKlhw4bavHmzZs2apdjY2FKfNwDAOdN2HHPLdse1qO6W7QIAAJSGMg32lzt9+rQkqWrVqpKklJQU5ebmKjo62tqmQYMGqlOnjpKTk9W2bVslJyeradOmCg0NtbaJjY3VsGHDtGfPHrVo0ULJyck22yhoM2rUqCLHkZ2drezsbOvrrKwsSVJubq5yc3NdMteiFGzbnX2g/KFuUMAjP+/KjS5pZ2976dqpL0fG7Iji5ueu/orrs7T7c6RPV9VNWcwRZYfPKDiDukEBRz4zHP2cMkN9OTLGaybY5+fna9SoUWrXrp2aNGkiSUpPT5e3t7eCgoJs2oaGhio9Pd3a5tJQX7C+YF1JbbKysnT+/HlVrFjRZt3UqVM1adKkQmNcvXq1/Pz8nJ+knZKSktzeB8of6gaRDra/6UiK3W2//M3BjbuJo3O0V3Hzc1d/xfVZ2v050+fV1k1ZzBFlj88oOIO6gTOfGfZ+TpnhM+PcuXN2t71mgn1cXJx2796tzZs3l/VQFB8frzFjxlhfZ2VlqXbt2oqJiVFAQIDb+s3NzVVSUpK6dOkiLy8vt/WD8oW6QYFZO4/b1c4jP083HUnR/pqtlO9h38fA6GbVrmZoLmPvHB1V3Pzc1V9xfZZ2f4706aq6KYs5ouzwGQVnUDco4MhnhqOfU2b4zCg4c9we10SwHz58uJYvX66NGzeqVq1a1uVhYWHKycnRqVOnbI7aZ2RkKCwszNrm22+/tdlewV3zL21z+Z30MzIyFBAQUOhovST5+PjIx8en0HIvL69S+eFSWv2gfKFuYG/YurS9ve+5VmrL0Tnaq7j5uau/4vos7f6c6fNq66Ys5oiyx2cUnEHdwJnPDHs/p8xQW46MsUzvim8YhoYPH67PP/9ca9euVUREhM36Vq1aycvLS2vWrLEu27dvnw4fPqyoqChJUlRUlHbt2qXMzExrm6SkJAUEBKhRo0bWNpduo6BNwTYAAAAAADCrMj1iHxcXp8WLF+v//u//VLlyZes18YGBgapYsaICAwM1ePBgjRkzRlWrVlVAQIBGjBihqKgotW3bVpIUExOjRo0aqV+/fpoxY4bS09M1fvx4xcXFWY+6P/nkk3rjjTc0duxYPfbYY1q7dq0++eQTrVixoszmDgAAAACAK5TpEfu33npLp0+fVqdOnVSjRg3rv48//tjaZtasWbr33nvVs2dPdezYUWFhYfrss8+s6z09PbV8+XJ5enoqKipKffv2Vf/+/TV58mRrm4iICK1YsUJJSUm65ZZbNHPmTL377rs86g4AAAAAYHplesTeMIwrtvH19VVCQoISEhKKbRMeHq4vv/yyxO106tRJO3bscHiMAAAAAABcy8r0iD0AAAAAALg6BHsAAAAAAEyMYA8AAAAAgIkR7AEAAAAAMDGCPQAAAAAAJkawBwAAAADAxAj2AAAAAACYGMEeAAAAAAATI9gDAAAAAGBiBHsAAAAAAEyMYA8AAAAAgIkR7AEAAAAAMDGCPQAAAAAAJkawBwAAAADAxAj2AAAAAACYGMEeAAAAAAATI9gDAAAAAGBiBHsAAAAAAEyMYA8AAAAAgIkR7AEAAAAAMDGCPQAAAAAAJkawBwAAAADAxAj2AAAAAACYGMEeAAAAAAATI9gDAAAAAGBiBHsAAAAAAEyMYA8AAAAAgIkR7AEAAAAAMDGCPQAAAAAAJkawBwAAAADAxAj2AAAAAACYGMEeAAAAAAATI9gDAAAAAGBiBHsAAAAAAEyMYA8AAAAAgIkR7AEAAAAAMDGCPQAAAAAAJkawBwAAAADAxAj2AAAAAACYGMEeAAAAAAATI9gDAAAAAGBiBHsAAAAAAEysQlkPAABgTtN2HHPbtse1qO62bQMAAJQ3HLEHAAAAAMDECPYAAAAAAJgYwR4AAAAAABMj2AMAAAAAYGLcPA8AAJRr7rrRIzd5BABcKzhiDwAAAACAiRHsAQAAAAAwMU7FBwAAAABckbsubZK4vOlqccQeAAAAAAATI9gDAAAAAGBinIoPAAAAACbEUz9QgCP2AAAAAACYGMEeAAAAAAATI9gDAAAAAGBiBHsAAAAAAEyMYA8AAAAAgIkR7AEAAAAAMDGCPQAAAAAAJkawBwAAAADAxAj2AAAAAACYGMEeAAAAAAATI9gDAAAAAGBiZRrsN27cqPvuu081a9aUxWLRsmXLbNYbhqEJEyaoRo0aqlixoqKjo7V//36bNidOnNCjjz6qgIAABQUFafDgwTpz5oxNm507d6pDhw7y9fVV7dq1NWPGDHdPDQAAAACAUlGmwf7s2bO65ZZblJCQUOT6GTNmaO7cuZo3b562bdumSpUqKTY2VhcuXLC2efTRR7Vnzx4lJSVp+fLl2rhxo4YOHWpdn5WVpZiYGIWHhyslJUWvvvqqXnzxRc2fP9/t8wMAAAAAwN0qlGXnXbt2VdeuXYtcZxiGZs+erfHjx+uBBx6QJP3rX/9SaGioli1bpt69e+uHH37QypUr9d1336l169aSpNdff1333HOP/vnPf6pmzZr68MMPlZOTo/fff1/e3t5q3LixUlNT9dprr9n8AQAAAAAAADMq02BfkrS0NKWnpys6Otq6LDAwUG3atFFycrJ69+6t5ORkBQUFWUO9JEVHR8vDw0Pbtm3Tgw8+qOTkZHXs2FHe3t7WNrGxsZo+fbpOnjypKlWqFOo7Oztb2dnZ1tdZWVmSpNzcXOXm5rpjutbtX/pfwB7UDQp45Oc51M7e9lLR9eXI+x1VXD27q8/S7q+4Pq/lfUrd2N8f/ofPKDiDurEfn4uF29r7HjPUlyNjvGaDfXp6uiQpNDTUZnloaKh1XXp6ukJCQmzWV6hQQVWrVrVpExERUWgbBeuKCvZTp07VpEmTCi1fvXq1/Pz8nJyR/ZKSktzeB8of6gaRDra/6UiK3W2//O3q+3NEUf25s8/S7q+4Ps2wT6mbK/eHwviMgjOomyvjc7Ewez+nzPAz/Ny5c3a3vWaDfVmKj4/XmDFjrK+zsrJUu3ZtxcTEKCAgwG395ubmKikpSV26dJGXl5fb+kH5Qt2gwKydx+1q55Gfp5uOpGh/zVbK97DvY2B0s2pO9+eMovpzZ5+l3V9xfV7L+5S6sb8//A+fUXAGdWM/Phf/x9HPKTP8DC84c9we12ywDwsLkyRlZGSoRo0a1uUZGRlq3ry5tU1mZqbN+/Ly8nTixAnr+8PCwpSRkWHTpuB1QZvL+fj4yMfHp9ByLy+vUvnhUlr9oHyhbmBv2Lq0vb3vKaq2HO3PEcXVsrv6LO3+iuvTDPuUurlyfyiMzyg4g7q5Mj4XC7P3c8oMteXIGK/Z59hHREQoLCxMa9assS7LysrStm3bFBUVJUmKiorSqVOnlJLyv9Mt1q5dq/z8fLVp08baZuPGjTbXJyQlJSkyMrLI0/ABAAAAADCTMg32Z86cUWpqqlJTUyX9dcO81NRUHT58WBaLRaNGjdLLL7+s//znP9q1a5f69++vmjVrqnv37pKkhg0b6u6779bjjz+ub7/9Vt98842GDx+u3r17q2bNmpKkv/3tb/L29tbgwYO1Z88effzxx5ozZ47NqfYAAAAAAJhVmZ6Kv337dnXu3Nn6uiBsDxgwQImJiRo7dqzOnj2roUOH6tSpU2rfvr1WrlwpX19f63s+/PBDDR8+XHfddZc8PDzUs2dPzZ0717o+MDBQq1evVlxcnFq1aqXq1atrwoQJPOoOAAAAAFAulGmw79SpkwzDKHa9xWLR5MmTNXny5GLbVK1aVYsXLy6xn2bNmmnTpk1OjxMAAAAAgGvVNXuNPQAAAAAAuDKCPQAAAAAAJkawBwAAAADAxAj2AAAAAACYGMEeAAAAAAATI9gDAAAAAGBiBHsAAAAAAEyMYA8AAAAAgIkR7AEAAAAAMDGCPQAAAAAAJkawBwAAAADAxAj2AAAAAACYGMEeAAAAAAATI9gDAAAAAGBiBHsAAAAAAEyMYA8AAAAAgIkR7AEAAAAAMLEKZT0AAAAAADC7aTuOuW3b41pUd9u2UT5wxB4AAAAAABMj2AMAAAAAYGIEewAAAAAATIxgDwAAAACAiRHsAQAAAAAwMYI9AAAAAAAmRrAHAAAAAMDECPYAAAAAAJgYwR4AAAAAABMj2AMAAAAAYGIVynoAAFBeTdtxzC3bHdeiulu2CwAAAHPiiD0AAAAAACbGEXsAAABc09x1BpTEWVAAygeCPQAAAIByhz8I4XrCqfgAAAAAAJgYwR4AAAAAABMj2AMAAAAAYGJcYw8AAACH2Hvtskd+niIlzdp5XPkeV/61k+uWAcA5HLEHAAAAAMDECPYAAAAAAJgYp+IDAAC4EI/YAgCUNo7YAwAAAABgYhyxB3Bd4AgagPKKn2+uxz4FYDYcsQcAAAAAwMQ4Yg8AAACUMc4SAHA1OGIPAAAAAICJEewBAAAAADAxgj0AAAAAACbGNfYAAAAA3M7e+wh45OcpUtKsnceV73HluMI9BACCPQAAAHDd4WZ9QPnCqfgAAAAAAJgYR+wBSHLfX+6L+6s9RwoAAAAA1+CIPQAAAAAAJkawBwAAAADAxAj2AAAAAACYGMEeAAAAAAATI9gDAAAAAGBiBHsAAAAAAEyMYA8AAAAAgIkR7AEAAAAAMDGCPQAAAAAAJkawBwAAAADAxCqU9QAAFDZtxzG723rk5ylS0qydx5XvceVv6XEtql/FyAAAAABcazhiDwAAAACAiXHEHrCDI0fQHcHRcwAAAABXiyP2AAAAAACYGEfsYTruOnoucQQdAAAAgPlcV0fsExISVLduXfn6+qpNmzb69ttvy3pIAAAAAABclevmiP3HH3+sMWPGaN68eWrTpo1mz56t2NhY7du3TyEhIWU9PFPjCDoAAAAAlJ3rJti/9tprevzxxzVo0CBJ0rx587RixQq9//77GjduXBmPzrW40RsAAAAAXD+ui2Cfk5OjlJQUxcfHW5d5eHgoOjpaycnJhdpnZ2crOzvb+vr06dOSpBMnTig3N9dt48zNzdW5c+d0/PhxeXl5Ob2dnKyTLhzV/xw/binV/orrs7T7c2efrujPIz9P586dU07WSbueY2/GObqiT+rmfxytmeL6ZJ+6vs9reZ9SN2XfX3F9Xsv79Fr/jCquz2t5n7qqz2t5jtSNff25s08z7lNX1c215M8//5QkGYZxxbYWw55WJnfkyBHdcMMN2rJli6KioqzLx44dqw0bNmjbtm027V988UVNmjSptIcJAAAAAICNX3/9VbVq1SqxzXVxxN5R8fHxGjNmjPV1fn6+Tpw4oWrVqslicd9fdrKyslS7dm39+uuvCggIcFs/KF+oGziKmoEzqBs4g7qBM6gbOKM81o1hGPrzzz9Vs2bNK7a9LoJ99erV5enpqYyMDJvlGRkZCgsLK9Tex8dHPj4+NsuCgoLcOUQbAQEB5aYYUXqoGziKmoEzqBs4g7qBM6gbOKO81U1gYKBd7a6Lx915e3urVatWWrNmjXVZfn6+1qxZY3NqPgAAAAAAZnNdHLGXpDFjxmjAgAFq3bq1brvtNs2ePVtnz5613iUfAAAAAAAzum6C/SOPPKI//vhDEyZMUHp6upo3b66VK1cqNDS0rIdm5ePjo4kTJxa6DAAoCXUDR1EzcAZ1A2dQN3AGdQNnXO91c13cFR8AAAAAgPLqurjGHgAAAACA8opgDwAAAACAiRHsAQAAAAAwMYI9AAAAAAAmRrB3sY0bN+q+++5TzZo1ZbFYtGzZMpv1GRkZGjhwoGrWrCk/Pz/dfffd2r9/v02bgwcP6sEHH1RwcLACAgLUq1cvZWRk2LSpW7euLBaLzb9p06a5e3pwg6lTp+rWW29V5cqVFRISou7du2vfvn02bS5cuKC4uDhVq1ZN/v7+6tmzZ6GaOHz4sLp16yY/Pz+FhIToueeeU15enk2b9evXq2XLlvLx8VH9+vWVmJjo7unBTUqrbtavX1/oZ43FYlF6enqpzBOu5aq6GTlypFq1aiUfHx81b968yL527typDh06yNfXV7Vr19aMGTPcNS24WWnVzaFDh4r8ebN161Z3Tg9u4Iqa+f7779WnTx/Vrl1bFStWVMOGDTVnzpxCffG7TflRWnVTXn+3Idi72NmzZ3XLLbcoISGh0DrDMNS9e3f9/PPP+r//+z/t2LFD4eHhio6O1tmzZ63vj4mJkcVi0dq1a/XNN98oJydH9913n/Lz8222N3nyZB09etT6b8SIEaUyR7jWhg0bFBcXp61btyopKUm5ubmKiYmx1oQkjR49Wl988YWWLFmiDRs26MiRI+rRo4d1/cWLF9WtWzfl5ORoy5YtWrhwoRITEzVhwgRrm7S0NHXr1k2dO3dWamqqRo0apSFDhmjVqlWlOl+4RmnVTYF9+/bZ/LwJCQkplXnCtVxRNwUee+wxPfLII0X2k5WVpZiYGIWHhyslJUWvvvqqXnzxRc2fP99tc4P7lFbdFPj6669tft60atXK5XOCe7miZlJSUhQSEqIPPvhAe/bs0T/+8Q/Fx8frjTfesLbhd5vypbTqpkC5+93GgNtIMj7//HPr63379hmSjN27d1uXXbx40QgODjbeeecdwzAMY9WqVYaHh4dx+vRpa5tTp04ZFovFSEpKsi4LDw83Zs2a5fY5oPRlZmYakowNGzYYhvHX19/Ly8tYsmSJtc0PP/xgSDKSk5MNwzCML7/80vDw8DDS09Otbd566y0jICDAyM7ONgzDMMaOHWs0btzYpq9HHnnEiI2NdfeUUArcVTfr1q0zJBknT54svcmg1DhTN5eaOHGiccsttxRa/uabbxpVqlSx1pFhGMbzzz9vREZGun4SKHXuqpu0tDRDkrFjxw53DR1l5GprpsBTTz1ldO7c2fqa323KN3fVTXn93YYj9qUoOztbkuTr62td5uHhIR8fH23evNnaxmKxyMfHx9rG19dXHh4e1jYFpk2bpmrVqqlFixZ69dVXC512DXM6ffq0JKlq1aqS/vrLY25urqKjo61tGjRooDp16ig5OVmSlJycrKZNmyo0NNTaJjY2VllZWdqzZ4+1zaXbKGhTsA2Ym7vqpkDz5s1Vo0YNdenSRd988427p4NS4kzd2CM5OVkdO3aUt7e3dVlsbKz27dunkydPumj0KCvuqpsC999/v0JCQtS+fXv95z//cc2gUaZcVTOnT5+2bkPid5vyzl11U6C8/W5DsC9FBYUXHx+vkydPKicnR9OnT9dvv/2mo0ePSpLatm2rSpUq6fnnn9e5c+d09uxZPfvss7p48aK1jfTXdWofffSR1q1bpyeeeEJTpkzR2LFjy2pqcJH8/HyNGjVK7dq1U5MmTSRJ6enp8vb2VlBQkE3b0NBQ67VA6enpNuGsYH3BupLaZGVl6fz58+6YDkqJO+umRo0amjdvnpYuXaqlS5eqdu3a6tSpk/773/+6eVZwN2frxh721BbMyZ114+/vr5kzZ2rJkiVasWKF2rdvr+7duxPuTc5VNbNlyxZ9/PHHGjp0qHUZv9uUX+6sm/L6u02Fsh7A9cTLy0ufffaZBg8erKpVq8rT01PR0dHq2rWrDMOQJAUHB2vJkiUaNmyY5s6dKw8PD/Xp00ctW7aUh8f//g4zZswY6/83a9ZM3t7eeuKJJzR16lSbo/0wl7i4OO3evbvQ2RlASdxZN5GRkYqMjLS+vv3223Xw4EHNmjVLixYtcnl/KD38vIEz3Fk31atXt/n95tZbb9WRI0f06quv6v7773d5fygdrqiZ3bt364EHHtDEiRMVExPjwtHhWuXOuimvv9twxL6UtWrVSqmpqTp16pSOHj2qlStX6vjx47rxxhutbWJiYnTw4EFlZmbq2LFjWrRokX7//XebNpdr06aN8vLydOjQoVKYBdxh+PDhWr58udatW6datWpZl4eFhSknJ0enTp2yaZ+RkaGwsDBrm8vvPlzw+kptAgICVLFiRVdPB6XE3XVTlNtuu00HDhxw0QxQFq6mbuzhbG3h2ubuuilKmzZt+HljYq6omb179+quu+7S0KFDNX78eJt1/G5TPrm7bopSHn63IdiXkcDAQAUHB2v//v3avn27HnjggUJtqlevrqCgIK1du1aZmZkl/rU6NTVVHh4e5r+b43XIMAwNHz5cn3/+udauXauIiAib9a1atZKXl5fWrFljXbZv3z4dPnxYUVFRkqSoqCjt2rVLmZmZ1jZJSUkKCAhQo0aNrG0u3UZBm4JtwFxKq26Kkpqaqho1arh4RigNrqgbe0RFRWnjxo3Kzc21LktKSlJkZKSqVKly9RNBqSqtuikKP2/MyVU1s2fPHnXu3FkDBgzQK6+8UqgffrcpX0qrbopSLn7WlOGN+8qlP//809ixY4exY8cOQ5Lx2muvGTt27DB++eUXwzAM45NPPjHWrVtnHDx40Fi2bJkRHh5u9OjRw2Yb77//vpGcnGwcOHDAWLRokVG1alVjzJgx1vVbtmwxZs2aZaSmphoHDx40PvjgAyM4ONjo379/qc4VrjFs2DAjMDDQWL9+vXH06FHrv3PnzlnbPPnkk0adOnWMtWvXGtu3bzeioqKMqKgo6/q8vDyjSZMmRkxMjJGammqsXLnSCA4ONuLj461tfv75Z8PPz8947rnnjB9++MFISEgwPD09jZUrV5bqfOEapVU3s2bNMpYtW2bs37/f2LVrl/H0008bHh4extdff12q84VruKJuDMMw9u/fb+zYscN44oknjJtvvtn6uVdwF/xTp04ZoaGhRr9+/Yzdu3cbH330keHn52e8/fbbpTpfuEZp1U1iYqKxePFi44cffjB++OEH45VXXjE8PDyM999/v1Tni6vniprZtWuXERwcbPTt29dmG5mZmdY2/G5TvpRW3ZTX320I9i5W8PiEy/8NGDDAMAzDmDNnjlGrVi3Dy8vLqFOnjjF+/HibxwEZxl+PBAoNDTW8vLyMm266yZg5c6aRn59vXZ+SkmK0adPGCAwMNHx9fY2GDRsaU6ZMMS5cuFCaU4WLFFUvkowFCxZY25w/f9546qmnjCpVqhh+fn7Ggw8+aBw9etRmO4cOHTK6du1qVKxY0ahevbrxzDPPGLm5uTZt1q1bZzRv3tzw9vY2brzxRps+YC6lVTfTp0836tWrZ/j6+hpVq1Y1OnXqZKxdu7a0pgkXc1Xd3HHHHUVuJy0tzdrm+++/N9q3b2/4+PgYN9xwgzFt2rRSmiVcrbTqJjEx0WjYsKHh5+dnBAQEGLfddpvNY61gHq6omYkTJxa5jfDwcJu++N2m/Cituimvv9tYDOP/37UNAAAAAACYDtfYAwAAAABgYgR7AAAAAABMjGAPAAAAAICJEewBAAAAADAxgj0AAAAAACZGsAcAAAAAwMQI9gAAAAAAmBjBHgAAAAAAEyPYAwAAAABgYgR7AABgF8MwFB0drdjY2ELr3nzzTQUFBem3334rg5EBAHB9I9gDAAC7WCwWLViwQNu2bdPbb79tXZ6WlqaxY8fq9ddfV61atVzaZ25urku3BwBAeUSwBwAAdqtdu7bmzJmjZ599VmlpaTIMQ4MHD1ZMTIxatGihrl27yt/fX6GhoerXr5+OHTtmfe/KlSvVvn17BQUFqVq1arr33nt18OBB6/pDhw7JYrHo448/1h133CFfX199+OGHZTFNAABMxWIYhlHWgwAAAObSvXt3nT59Wj169NBLL72kPXv2qHHjxhoyZIj69++v8+fP6/nnn1deXp7Wrl0rSVq6dKksFouaNWumM2fOaMKECTp06JBSU1Pl4eGhQ4cOKSIiQnXr1tXMmTPVokUL+fr6qkaNGmU8WwAArm0EewAA4LDMzEw1btxYJ06c0NKlS7V7925t2rRJq1atsrb57bffVLt2be3bt08333xzoW0cO3ZMwcHB2rVrl5o0aWIN9rNnz9bTTz9dmtMBAMDUOBUfAAA4LCQkRE888YQaNmyo7t276/vvv9e6devk7+9v/degQQNJsp5uv3//fvXp00c33nijAgICVLduXUnS4cOHbbbdunXrUp0LAABmV6GsBwAAAMypQoUKqlDhr18lzpw5o/vuu0/Tp08v1K7gVPr77rtP4eHheuedd1SzZk3l5+erSZMmysnJsWlfqVIl9w8eAIByhGAPAACuWsuWLbV06VLVrVvXGvYvdfz4ce3bt0/vvPOOOnToIEnavHlzaQ8TAIByiVPxAQDAVYuLi9OJEyfUp08ffffddzp48KBWrVqlQYMG6eLFi6pSpYqqVaum+fPn68CBA1q7dq3GjBlT1sMGAKBcINgDAICrVrNmTX3zzTe6ePGiYmJi1LRpU40aNUpBQUHy8PCQh4eHPvroI6WkpKhJkyYaPXq0Xn311bIeNgAA5QJ3xQcAAAAAwMQ4Yg8AAAAAgIkR7AEAAAAAMDGCPQAAAAAAJkawBwAAAADAxAj2AAAAAACYGMEeAAAAAAATI9gDAAAAAGBiBHsAAAAAAEyMYA8AAAAAgIkR7AEAAAAAMDGCPQAAAAAAJvb/ACCLBekpcHoEAAAAAElFTkSuQmCC\n"
                },
                "metadata": {}
              }
            ]
          }
        },
        "358cabe6f5e1490aba3de95b44b19ee9": {
          "model_module": "@jupyter-widgets/base",
          "model_name": "LayoutModel",
          "model_module_version": "1.2.0",
          "state": {
            "_model_module": "@jupyter-widgets/base",
            "_model_module_version": "1.2.0",
            "_model_name": "LayoutModel",
            "_view_count": null,
            "_view_module": "@jupyter-widgets/base",
            "_view_module_version": "1.2.0",
            "_view_name": "LayoutView",
            "align_content": null,
            "align_items": null,
            "align_self": null,
            "border": null,
            "bottom": null,
            "display": null,
            "flex": null,
            "flex_flow": null,
            "grid_area": null,
            "grid_auto_columns": null,
            "grid_auto_flow": null,
            "grid_auto_rows": null,
            "grid_column": null,
            "grid_gap": null,
            "grid_row": null,
            "grid_template_areas": null,
            "grid_template_columns": null,
            "grid_template_rows": null,
            "height": null,
            "justify_content": null,
            "justify_items": null,
            "left": null,
            "margin": null,
            "max_height": null,
            "max_width": null,
            "min_height": null,
            "min_width": null,
            "object_fit": null,
            "object_position": null,
            "order": null,
            "overflow": null,
            "overflow_x": null,
            "overflow_y": null,
            "padding": null,
            "right": null,
            "top": null,
            "visibility": null,
            "width": null
          }
        },
        "7a4ef955e38946c88372d656122da6c0": {
          "model_module": "@jupyter-widgets/base",
          "model_name": "LayoutModel",
          "model_module_version": "1.2.0",
          "state": {
            "_model_module": "@jupyter-widgets/base",
            "_model_module_version": "1.2.0",
            "_model_name": "LayoutModel",
            "_view_count": null,
            "_view_module": "@jupyter-widgets/base",
            "_view_module_version": "1.2.0",
            "_view_name": "LayoutView",
            "align_content": null,
            "align_items": null,
            "align_self": null,
            "border": null,
            "bottom": null,
            "display": null,
            "flex": null,
            "flex_flow": null,
            "grid_area": null,
            "grid_auto_columns": null,
            "grid_auto_flow": null,
            "grid_auto_rows": null,
            "grid_column": null,
            "grid_gap": null,
            "grid_row": null,
            "grid_template_areas": null,
            "grid_template_columns": null,
            "grid_template_rows": null,
            "height": null,
            "justify_content": null,
            "justify_items": null,
            "left": null,
            "margin": null,
            "max_height": null,
            "max_width": null,
            "min_height": null,
            "min_width": null,
            "object_fit": null,
            "object_position": null,
            "order": null,
            "overflow": null,
            "overflow_x": null,
            "overflow_y": null,
            "padding": null,
            "right": null,
            "top": null,
            "visibility": null,
            "width": null
          }
        },
        "d809791761074d0fb6448e0705e01dd1": {
          "model_module": "@jupyter-widgets/base",
          "model_name": "LayoutModel",
          "model_module_version": "1.2.0",
          "state": {
            "_model_module": "@jupyter-widgets/base",
            "_model_module_version": "1.2.0",
            "_model_name": "LayoutModel",
            "_view_count": null,
            "_view_module": "@jupyter-widgets/base",
            "_view_module_version": "1.2.0",
            "_view_name": "LayoutView",
            "align_content": null,
            "align_items": null,
            "align_self": null,
            "border": null,
            "bottom": null,
            "display": null,
            "flex": null,
            "flex_flow": null,
            "grid_area": null,
            "grid_auto_columns": null,
            "grid_auto_flow": null,
            "grid_auto_rows": null,
            "grid_column": null,
            "grid_gap": null,
            "grid_row": null,
            "grid_template_areas": null,
            "grid_template_columns": null,
            "grid_template_rows": null,
            "height": null,
            "justify_content": null,
            "justify_items": null,
            "left": null,
            "margin": null,
            "max_height": null,
            "max_width": null,
            "min_height": null,
            "min_width": null,
            "object_fit": null,
            "object_position": null,
            "order": null,
            "overflow": null,
            "overflow_x": null,
            "overflow_y": null,
            "padding": null,
            "right": null,
            "top": null,
            "visibility": null,
            "width": null
          }
        },
        "2076bf38685340809e4f6818123e4000": {
          "model_module": "@jupyter-widgets/base",
          "model_name": "LayoutModel",
          "model_module_version": "1.2.0",
          "state": {
            "_model_module": "@jupyter-widgets/base",
            "_model_module_version": "1.2.0",
            "_model_name": "LayoutModel",
            "_view_count": null,
            "_view_module": "@jupyter-widgets/base",
            "_view_module_version": "1.2.0",
            "_view_name": "LayoutView",
            "align_content": null,
            "align_items": null,
            "align_self": null,
            "border": null,
            "bottom": null,
            "display": null,
            "flex": null,
            "flex_flow": null,
            "grid_area": null,
            "grid_auto_columns": null,
            "grid_auto_flow": null,
            "grid_auto_rows": null,
            "grid_column": null,
            "grid_gap": null,
            "grid_row": null,
            "grid_template_areas": null,
            "grid_template_columns": null,
            "grid_template_rows": null,
            "height": null,
            "justify_content": null,
            "justify_items": null,
            "left": null,
            "margin": null,
            "max_height": null,
            "max_width": null,
            "min_height": null,
            "min_width": null,
            "object_fit": null,
            "object_position": null,
            "order": null,
            "overflow": null,
            "overflow_x": null,
            "overflow_y": null,
            "padding": null,
            "right": null,
            "top": null,
            "visibility": null,
            "width": null
          }
        }
      }
    }
  },
  "cells": [
    {
      "cell_type": "markdown",
      "metadata": {
        "id": "view-in-github",
        "colab_type": "text"
      },
      "source": [
        "<a href=\"https://colab.research.google.com/github/wadiea1/Cloud-computing/blob/main/tergol4.ipynb\" target=\"_parent\"><img src=\"https://colab.research.google.com/assets/colab-badge.svg\" alt=\"Open In Colab\"/></a>"
      ]
    },
    {
      "cell_type": "code",
      "source": [
        "# Load data\n",
        "import pandas as pd\n",
        "import requests\n",
        "import matplotlib.pyplot as plt\n",
        "import ipywidgets as widgets\n",
        "from IPython.display import display\n",
        "\n",
        "# Get data from the API\n",
        "url = \"https://data.gov.il/api/3/action/datastore_search?resource_id=053cea08-09bc-40ec-8f7a-156f0677aff3&limit=32000\"\n",
        "data = requests.get(url).json()\n",
        "df = pd.DataFrame(data[\"result\"][\"records\"])\n",
        "\n",
        "# Convert year column to numbers\n",
        "df['shnat_yitzur'] = pd.to_numeric(df['shnat_yitzur'], errors='coerce')\n",
        "\n",
        "# Tab 1: Data Overview\n",
        "tab1 = widgets.Output()\n",
        "with tab1:\n",
        "    print(\"Data Overview:\")\n",
        "    display(df.describe())\n",
        "\n",
        "# Tab 2: Raw Data\n",
        "tab2 = widgets.Output()\n",
        "with tab2:\n",
        "    print(\"Raw Data:\")\n",
        "    display(df)\n",
        "\n",
        "# Tab 3: Graph of Vehicles Per Year\n",
        "tab3 = widgets.Output()\n",
        "with tab3:\n",
        "    print(\"Cars Created Per Year:\")\n",
        "    yearly_counts = df['shnat_yitzur'].value_counts().sort_index()\n",
        "    plt.figure(figsize=(12, 6))\n",
        "    plt.bar(yearly_counts.index, yearly_counts.values, color='skyblue')\n",
        "    plt.xlabel(\"Year\")\n",
        "    plt.ylabel(\"Number of Vehicles\")\n",
        "    plt.title(\"Number of Vehicles Produced Each Year\")\n",
        "    plt.grid(True)\n",
        "    plt.show()\n",
        "\n",
        "# Combine all tabs\n",
        "tabs = widgets.Tab(children=[tab1, tab2, tab3])\n",
        "tabs.set_title(0, \"Tab 1: Data Overview\")\n",
        "tabs.set_title(1, \"Tab 2: Raw Data\")\n",
        "tabs.set_title(2, \"Tab 3: Year Count\")\n",
        "display(tabs)\n"
      ],
      "metadata": {
        "colab": {
          "base_uri": "https://localhost:8080/",
          "height": 691,
          "referenced_widgets": [
            "719e8efd20124efabdb5a48efe64cad2",
            "eb9452eb883f4883ad30ba6ae8ca71e9",
            "e297dc407c3d414ba096ddbdfc635ff6",
            "05584c3e10bb45eaae478f61c8fb08a9",
            "358cabe6f5e1490aba3de95b44b19ee9",
            "7a4ef955e38946c88372d656122da6c0",
            "d809791761074d0fb6448e0705e01dd1",
            "2076bf38685340809e4f6818123e4000"
          ]
        },
        "id": "_JYryEzxEA-P",
        "outputId": "0e448125-2846-4696-fb86-42a94b880788"
      },
      "execution_count": 6,
      "outputs": [
        {
          "output_type": "display_data",
          "data": {
            "text/plain": [
              "Tab(children=(Output(), Output(), Output()), _titles={'0': 'Tab 1: Data Overview', '1': 'Tab 2: Raw Data', '2'…"
            ],
            "application/vnd.jupyter.widget-view+json": {
              "version_major": 2,
              "version_minor": 0,
              "model_id": "719e8efd20124efabdb5a48efe64cad2"
            }
          },
          "metadata": {}
        }
      ]
    }
  ]
}